{
 "cells": [
  {
   "cell_type": "code",
   "execution_count": 1,
   "metadata": {},
   "outputs": [],
   "source": [
    "import pandas as pd\n",
    "import numpy as np\n",
    "import random"
   ]
  },
  {
   "cell_type": "code",
   "execution_count": 8,
   "metadata": {},
   "outputs": [],
   "source": [
    "the_record = pd.read_csv('the_record.csv').drop(columns=['Unnamed: 0'])\n",
    "clean = pd.read_csv('clean.csv').drop(columns=['Unnamed: 0'])"
   ]
  },
  {
   "cell_type": "code",
   "execution_count": 5,
   "metadata": {},
   "outputs": [
    {
     "data": {
      "text/html": [
       "<div>\n",
       "<style scoped>\n",
       "    .dataframe tbody tr th:only-of-type {\n",
       "        vertical-align: middle;\n",
       "    }\n",
       "\n",
       "    .dataframe tbody tr th {\n",
       "        vertical-align: top;\n",
       "    }\n",
       "\n",
       "    .dataframe thead th {\n",
       "        text-align: right;\n",
       "    }\n",
       "</style>\n",
       "<table border=\"1\" class=\"dataframe\">\n",
       "  <thead>\n",
       "    <tr style=\"text-align: right;\">\n",
       "      <th></th>\n",
       "      <th>outlet</th>\n",
       "      <th>url</th>\n",
       "      <th>title</th>\n",
       "      <th>authors</th>\n",
       "      <th>publish_date</th>\n",
       "      <th>text</th>\n",
       "    </tr>\n",
       "  </thead>\n",
       "  <tbody>\n",
       "    <tr>\n",
       "      <th>0</th>\n",
       "      <td>The Record</td>\n",
       "      <td>https://www.therecord.com/news/waterloo-region...</td>\n",
       "      <td>Two new COVID-19 cases in region</td>\n",
       "      <td>['Johanna Weidner']</td>\n",
       "      <td>Tue., July 14, 2020</td>\n",
       "      <td>WATERLOO REGION — COVID-19 cases in Waterloo R...</td>\n",
       "    </tr>\n",
       "    <tr>\n",
       "      <th>1</th>\n",
       "      <td>The Record</td>\n",
       "      <td>https://www.therecord.com/news/waterloo-region...</td>\n",
       "      <td>Waterloo Region businesses hope people ‘want t...</td>\n",
       "      <td>['Robert Williams']</td>\n",
       "      <td>Tue., July 14, 2020</td>\n",
       "      <td>WATERLOO REGION — The lights were off, the sig...</td>\n",
       "    </tr>\n",
       "    <tr>\n",
       "      <th>2</th>\n",
       "      <td>The Record</td>\n",
       "      <td>https://www.therecord.com/news/waterloo-region...</td>\n",
       "      <td>UPDATE: Man who murdered Kitchener woman dies ...</td>\n",
       "      <td>['Gordon Paul']</td>\n",
       "      <td>Tue., July 14, 2020</td>\n",
       "      <td>KITCHENER — Hugh McColl told a pack of lies on...</td>\n",
       "    </tr>\n",
       "    <tr>\n",
       "      <th>3</th>\n",
       "      <td>The Record</td>\n",
       "      <td>https://www.therecord.com/news/waterloo-region...</td>\n",
       "      <td>A woman walking her dog struck by vehicle in K...</td>\n",
       "      <td>['Laura Booth', 'Liz Monteiro']</td>\n",
       "      <td>Tue., July 14, 2020</td>\n",
       "      <td>KITCHENER — A woman walking her dog was struck...</td>\n",
       "    </tr>\n",
       "    <tr>\n",
       "      <th>4</th>\n",
       "      <td>The Record</td>\n",
       "      <td>https://www.therecord.com/news/waterloo-region...</td>\n",
       "      <td>Premier Doug Ford visits Kitchener and Cambridge</td>\n",
       "      <td>['Waterloo Region Record']</td>\n",
       "      <td>Tue., July 14, 2020</td>\n",
       "      <td>WATERLOO REGION — Premier Doug Ford will be ma...</td>\n",
       "    </tr>\n",
       "  </tbody>\n",
       "</table>\n",
       "</div>"
      ],
      "text/plain": [
       "       outlet                                                url  \\\n",
       "0  The Record  https://www.therecord.com/news/waterloo-region...   \n",
       "1  The Record  https://www.therecord.com/news/waterloo-region...   \n",
       "2  The Record  https://www.therecord.com/news/waterloo-region...   \n",
       "3  The Record  https://www.therecord.com/news/waterloo-region...   \n",
       "4  The Record  https://www.therecord.com/news/waterloo-region...   \n",
       "\n",
       "                                               title  \\\n",
       "0                   Two new COVID-19 cases in region   \n",
       "1  Waterloo Region businesses hope people ‘want t...   \n",
       "2  UPDATE: Man who murdered Kitchener woman dies ...   \n",
       "3  A woman walking her dog struck by vehicle in K...   \n",
       "4   Premier Doug Ford visits Kitchener and Cambridge   \n",
       "\n",
       "                           authors         publish_date  \\\n",
       "0              ['Johanna Weidner']  Tue., July 14, 2020   \n",
       "1              ['Robert Williams']  Tue., July 14, 2020   \n",
       "2                  ['Gordon Paul']  Tue., July 14, 2020   \n",
       "3  ['Laura Booth', 'Liz Monteiro']  Tue., July 14, 2020   \n",
       "4       ['Waterloo Region Record']  Tue., July 14, 2020   \n",
       "\n",
       "                                                text  \n",
       "0  WATERLOO REGION — COVID-19 cases in Waterloo R...  \n",
       "1  WATERLOO REGION — The lights were off, the sig...  \n",
       "2  KITCHENER — Hugh McColl told a pack of lies on...  \n",
       "3  KITCHENER — A woman walking her dog was struck...  \n",
       "4  WATERLOO REGION — Premier Doug Ford will be ma...  "
      ]
     },
     "execution_count": 5,
     "metadata": {},
     "output_type": "execute_result"
    }
   ],
   "source": [
    "the_record.head()"
   ]
  },
  {
   "cell_type": "code",
   "execution_count": 6,
   "metadata": {},
   "outputs": [
    {
     "data": {
      "text/plain": [
       "(280, 6)"
      ]
     },
     "execution_count": 6,
     "metadata": {},
     "output_type": "execute_result"
    }
   ],
   "source": [
    "the_record.shape"
   ]
  },
  {
   "cell_type": "code",
   "execution_count": 9,
   "metadata": {},
   "outputs": [
    {
     "data": {
      "text/html": [
       "<div>\n",
       "<style scoped>\n",
       "    .dataframe tbody tr th:only-of-type {\n",
       "        vertical-align: middle;\n",
       "    }\n",
       "\n",
       "    .dataframe tbody tr th {\n",
       "        vertical-align: top;\n",
       "    }\n",
       "\n",
       "    .dataframe thead th {\n",
       "        text-align: right;\n",
       "    }\n",
       "</style>\n",
       "<table border=\"1\" class=\"dataframe\">\n",
       "  <thead>\n",
       "    <tr style=\"text-align: right;\">\n",
       "      <th></th>\n",
       "      <th>outlet</th>\n",
       "      <th>url</th>\n",
       "      <th>title</th>\n",
       "      <th>authors</th>\n",
       "      <th>publish_date</th>\n",
       "      <th>text</th>\n",
       "      <th>keywords</th>\n",
       "    </tr>\n",
       "  </thead>\n",
       "  <tbody>\n",
       "    <tr>\n",
       "      <th>0</th>\n",
       "      <td>thestar</td>\n",
       "      <td>https://www.thestar.com/business/2020/07/11/th...</td>\n",
       "      <td>This Black woman entrepreneur built her hairst...</td>\n",
       "      <td>'Tess Kalinowski'</td>\n",
       "      <td>2020-07-11 00:00:00</td>\n",
       "      <td>The kinky and the curly are obvious. But the “...</td>\n",
       "      <td>[]</td>\n",
       "    </tr>\n",
       "    <tr>\n",
       "      <th>1</th>\n",
       "      <td>thestar</td>\n",
       "      <td>https://www.thestar.com/business/2020/07/13/th...</td>\n",
       "      <td>The world drinks less coffee while office work...</td>\n",
       "      <td>'Marvin G. Perez'</td>\n",
       "      <td>2020-07-13 00:00:00</td>\n",
       "      <td>In a work-from-home world, hitting the local c...</td>\n",
       "      <td>[]</td>\n",
       "    </tr>\n",
       "    <tr>\n",
       "      <th>2</th>\n",
       "      <td>thestar</td>\n",
       "      <td>https://www.thestar.com/business/2020/07/13/co...</td>\n",
       "      <td>Coronavirus surge is killing America’s small b...</td>\n",
       "      <td>'Emily Flitter'</td>\n",
       "      <td>2020-07-13 00:00:00</td>\n",
       "      <td>On the last Friday of June, after Gov. Greg Ab...</td>\n",
       "      <td>[]</td>\n",
       "    </tr>\n",
       "    <tr>\n",
       "      <th>3</th>\n",
       "      <td>thestar</td>\n",
       "      <td>https://www.thestar.com/wsj/business/2020/07/1...</td>\n",
       "      <td>At Disney, masks are required but ears are opt...</td>\n",
       "      <td>'Spencer Jakab'</td>\n",
       "      <td>2020-07-13 00:00:00</td>\n",
       "      <td>You can’t ward off Covid-19 by wishing upon a ...</td>\n",
       "      <td>[]</td>\n",
       "    </tr>\n",
       "    <tr>\n",
       "      <th>4</th>\n",
       "      <td>thestar</td>\n",
       "      <td>https://www.thestar.com/wsj/business/2020/07/1...</td>\n",
       "      <td>Tesla is now bigger than JPMorgan and Procter ...</td>\n",
       "      <td>'Gunjan Banerji'</td>\n",
       "      <td>2020-07-13 00:00:00</td>\n",
       "      <td>Tesla Inc.’s shares vaulted toward another rec...</td>\n",
       "      <td>[]</td>\n",
       "    </tr>\n",
       "  </tbody>\n",
       "</table>\n",
       "</div>"
      ],
      "text/plain": [
       "    outlet                                                url  \\\n",
       "0  thestar  https://www.thestar.com/business/2020/07/11/th...   \n",
       "1  thestar  https://www.thestar.com/business/2020/07/13/th...   \n",
       "2  thestar  https://www.thestar.com/business/2020/07/13/co...   \n",
       "3  thestar  https://www.thestar.com/wsj/business/2020/07/1...   \n",
       "4  thestar  https://www.thestar.com/wsj/business/2020/07/1...   \n",
       "\n",
       "                                               title            authors  \\\n",
       "0  This Black woman entrepreneur built her hairst...  'Tess Kalinowski'   \n",
       "1  The world drinks less coffee while office work...  'Marvin G. Perez'   \n",
       "2  Coronavirus surge is killing America’s small b...    'Emily Flitter'   \n",
       "3  At Disney, masks are required but ears are opt...    'Spencer Jakab'   \n",
       "4  Tesla is now bigger than JPMorgan and Procter ...   'Gunjan Banerji'   \n",
       "\n",
       "          publish_date                                               text  \\\n",
       "0  2020-07-11 00:00:00  The kinky and the curly are obvious. But the “...   \n",
       "1  2020-07-13 00:00:00  In a work-from-home world, hitting the local c...   \n",
       "2  2020-07-13 00:00:00  On the last Friday of June, after Gov. Greg Ab...   \n",
       "3  2020-07-13 00:00:00  You can’t ward off Covid-19 by wishing upon a ...   \n",
       "4  2020-07-13 00:00:00  Tesla Inc.’s shares vaulted toward another rec...   \n",
       "\n",
       "  keywords  \n",
       "0       []  \n",
       "1       []  \n",
       "2       []  \n",
       "3       []  \n",
       "4       []  "
      ]
     },
     "execution_count": 9,
     "metadata": {},
     "output_type": "execute_result"
    }
   ],
   "source": [
    "clean.head()"
   ]
  },
  {
   "cell_type": "code",
   "execution_count": 12,
   "metadata": {},
   "outputs": [
    {
     "data": {
      "text/html": [
       "<div>\n",
       "<style scoped>\n",
       "    .dataframe tbody tr th:only-of-type {\n",
       "        vertical-align: middle;\n",
       "    }\n",
       "\n",
       "    .dataframe tbody tr th {\n",
       "        vertical-align: top;\n",
       "    }\n",
       "\n",
       "    .dataframe thead th {\n",
       "        text-align: right;\n",
       "    }\n",
       "</style>\n",
       "<table border=\"1\" class=\"dataframe\">\n",
       "  <thead>\n",
       "    <tr style=\"text-align: right;\">\n",
       "      <th></th>\n",
       "      <th>outlet</th>\n",
       "      <th>url</th>\n",
       "      <th>title</th>\n",
       "      <th>authors</th>\n",
       "      <th>publish_date</th>\n",
       "      <th>text</th>\n",
       "    </tr>\n",
       "  </thead>\n",
       "  <tbody>\n",
       "    <tr>\n",
       "      <th>0</th>\n",
       "      <td>thestar</td>\n",
       "      <td>https://www.thestar.com/business/2020/07/11/th...</td>\n",
       "      <td>This Black woman entrepreneur built her hairst...</td>\n",
       "      <td>'Tess Kalinowski'</td>\n",
       "      <td>2020-07-11 00:00:00</td>\n",
       "      <td>The kinky and the curly are obvious. But the “...</td>\n",
       "    </tr>\n",
       "    <tr>\n",
       "      <th>1</th>\n",
       "      <td>thestar</td>\n",
       "      <td>https://www.thestar.com/business/2020/07/13/th...</td>\n",
       "      <td>The world drinks less coffee while office work...</td>\n",
       "      <td>'Marvin G. Perez'</td>\n",
       "      <td>2020-07-13 00:00:00</td>\n",
       "      <td>In a work-from-home world, hitting the local c...</td>\n",
       "    </tr>\n",
       "    <tr>\n",
       "      <th>2</th>\n",
       "      <td>thestar</td>\n",
       "      <td>https://www.thestar.com/business/2020/07/13/co...</td>\n",
       "      <td>Coronavirus surge is killing America’s small b...</td>\n",
       "      <td>'Emily Flitter'</td>\n",
       "      <td>2020-07-13 00:00:00</td>\n",
       "      <td>On the last Friday of June, after Gov. Greg Ab...</td>\n",
       "    </tr>\n",
       "    <tr>\n",
       "      <th>3</th>\n",
       "      <td>thestar</td>\n",
       "      <td>https://www.thestar.com/wsj/business/2020/07/1...</td>\n",
       "      <td>At Disney, masks are required but ears are opt...</td>\n",
       "      <td>'Spencer Jakab'</td>\n",
       "      <td>2020-07-13 00:00:00</td>\n",
       "      <td>You can’t ward off Covid-19 by wishing upon a ...</td>\n",
       "    </tr>\n",
       "    <tr>\n",
       "      <th>4</th>\n",
       "      <td>thestar</td>\n",
       "      <td>https://www.thestar.com/wsj/business/2020/07/1...</td>\n",
       "      <td>Tesla is now bigger than JPMorgan and Procter ...</td>\n",
       "      <td>'Gunjan Banerji'</td>\n",
       "      <td>2020-07-13 00:00:00</td>\n",
       "      <td>Tesla Inc.’s shares vaulted toward another rec...</td>\n",
       "    </tr>\n",
       "  </tbody>\n",
       "</table>\n",
       "</div>"
      ],
      "text/plain": [
       "    outlet                                                url  \\\n",
       "0  thestar  https://www.thestar.com/business/2020/07/11/th...   \n",
       "1  thestar  https://www.thestar.com/business/2020/07/13/th...   \n",
       "2  thestar  https://www.thestar.com/business/2020/07/13/co...   \n",
       "3  thestar  https://www.thestar.com/wsj/business/2020/07/1...   \n",
       "4  thestar  https://www.thestar.com/wsj/business/2020/07/1...   \n",
       "\n",
       "                                               title            authors  \\\n",
       "0  This Black woman entrepreneur built her hairst...  'Tess Kalinowski'   \n",
       "1  The world drinks less coffee while office work...  'Marvin G. Perez'   \n",
       "2  Coronavirus surge is killing America’s small b...    'Emily Flitter'   \n",
       "3  At Disney, masks are required but ears are opt...    'Spencer Jakab'   \n",
       "4  Tesla is now bigger than JPMorgan and Procter ...   'Gunjan Banerji'   \n",
       "\n",
       "          publish_date                                               text  \n",
       "0  2020-07-11 00:00:00  The kinky and the curly are obvious. But the “...  \n",
       "1  2020-07-13 00:00:00  In a work-from-home world, hitting the local c...  \n",
       "2  2020-07-13 00:00:00  On the last Friday of June, after Gov. Greg Ab...  \n",
       "3  2020-07-13 00:00:00  You can’t ward off Covid-19 by wishing upon a ...  \n",
       "4  2020-07-13 00:00:00  Tesla Inc.’s shares vaulted toward another rec...  "
      ]
     },
     "execution_count": 12,
     "metadata": {},
     "output_type": "execute_result"
    }
   ],
   "source": [
    "clean = clean.drop(columns=['keywords'])\n",
    "clean.head()"
   ]
  },
  {
   "cell_type": "code",
   "execution_count": null,
   "metadata": {},
   "outputs": [],
   "source": [
    "clean = pd.concat([clean, the_record])\n"
   ]
  },
  {
   "cell_type": "markdown",
   "metadata": {},
   "source": [
    "# Creating the User Reading Behavior Dataset"
   ]
  },
  {
   "cell_type": "code",
   "execution_count": 220,
   "metadata": {},
   "outputs": [],
   "source": [
    "clean = pd.read_csv('clean.csv').drop(columns=['Unnamed: 0'])"
   ]
  },
  {
   "cell_type": "code",
   "execution_count": 221,
   "metadata": {},
   "outputs": [],
   "source": [
    "clean['article_id'] = np.arange(len(clean))"
   ]
  },
  {
   "cell_type": "code",
   "execution_count": 222,
   "metadata": {},
   "outputs": [
    {
     "data": {
      "text/plain": [
       "(4328, 8)"
      ]
     },
     "execution_count": 222,
     "metadata": {},
     "output_type": "execute_result"
    }
   ],
   "source": [
    "clean.shape "
   ]
  },
  {
   "cell_type": "code",
   "execution_count": 223,
   "metadata": {},
   "outputs": [],
   "source": [
    "# Drop all rows with NA as a value\n",
    "\n",
    "clean = clean.dropna()"
   ]
  },
  {
   "cell_type": "code",
   "execution_count": 224,
   "metadata": {},
   "outputs": [
    {
     "data": {
      "text/plain": [
       "(1362, 8)"
      ]
     },
     "execution_count": 224,
     "metadata": {},
     "output_type": "execute_result"
    }
   ],
   "source": [
    "clean.shape"
   ]
  },
  {
   "cell_type": "code",
   "execution_count": 225,
   "metadata": {},
   "outputs": [],
   "source": [
    "for i in range(len(clean)):\n",
    "    clean.iloc[i, 4] = str(clean.iloc[i, 4])\n",
    "    clean.iloc[i, 4] = clean.iloc[i, 4][:10]"
   ]
  },
  {
   "cell_type": "code",
   "execution_count": 226,
   "metadata": {},
   "outputs": [
    {
     "data": {
      "text/plain": [
       "str"
      ]
     },
     "execution_count": 226,
     "metadata": {},
     "output_type": "execute_result"
    }
   ],
   "source": [
    "type(clean.iloc[0, 4])"
   ]
  },
  {
   "cell_type": "code",
   "execution_count": 230,
   "metadata": {},
   "outputs": [],
   "source": [
    "# Creating a datetime object for publish_date\n",
    "\n",
    "for i in range(len(clean)):\n",
    "    x = datetime.datetime.strptime((clean.iloc[i, 4]),\"%Y-%m-%d\")\n",
    "    x = x.strftime(\"%Y-%m-%d\")\n",
    "    #new_x = x.strptime(x, \"%Y-%m-%d\")\n",
    "    clean.iloc[i, 4] = x"
   ]
  },
  {
   "cell_type": "markdown",
   "metadata": {},
   "source": [
    "For user reading dataset, columns will include:\n",
    "\n",
    "- date (read)\n",
    "- outlet \n",
    "- url\n",
    "- title\n",
    "- start_time\n",
    "- finish_time\n",
    "- reading_time"
   ]
  },
  {
   "cell_type": "markdown",
   "metadata": {},
   "source": [
    "**Create arbitrary number of dates (in the range of a week)**"
   ]
  },
  {
   "cell_type": "code",
   "execution_count": 192,
   "metadata": {},
   "outputs": [],
   "source": [
    "import datetime\n",
    "import pytz"
   ]
  },
  {
   "cell_type": "code",
   "execution_count": 232,
   "metadata": {},
   "outputs": [],
   "source": [
    "start = datetime.datetime.strptime(\"14-07-2020\", \"%d-%m-%Y\")\n",
    "end = datetime.datetime.strptime(\"21-07-2020\", \"%d-%m-%Y\")\n",
    "date_generated = [start + datetime.timedelta(days=x) for x in range(0, (end-start).days)]"
   ]
  },
  {
   "cell_type": "code",
   "execution_count": 233,
   "metadata": {},
   "outputs": [],
   "source": [
    "datelist = []\n",
    "\n",
    "for x in range(10): \n",
    "    date_generated = [start + datetime.timedelta(days=x) for x in range(0, (end-start).days)]\n",
    "    \n",
    "    for day in date_generated:\n",
    "        d = day.strftime(\"%Y-%m-%d\")\n",
    "        datelist.append(day.strptime(d, \"%Y-%m-%d\"))"
   ]
  },
  {
   "cell_type": "code",
   "execution_count": 234,
   "metadata": {
    "scrolled": true
   },
   "outputs": [],
   "source": [
    "user_reading = pd.DataFrame({'date_read': datelist})\n",
    "user_reading = user_reading.sort_values(by='date_read', ascending= True)\n",
    "user_reading.reset_index(drop=True, inplace=True)"
   ]
  },
  {
   "cell_type": "code",
   "execution_count": 235,
   "metadata": {},
   "outputs": [
    {
     "data": {
      "text/plain": [
       "pandas._libs.tslibs.timestamps.Timestamp"
      ]
     },
     "execution_count": 235,
     "metadata": {},
     "output_type": "execute_result"
    }
   ],
   "source": [
    "type(user_reading.loc[0, 'date_read'])"
   ]
  },
  {
   "cell_type": "code",
   "execution_count": 236,
   "metadata": {
    "scrolled": false
   },
   "outputs": [
    {
     "data": {
      "text/html": [
       "<div>\n",
       "<style scoped>\n",
       "    .dataframe tbody tr th:only-of-type {\n",
       "        vertical-align: middle;\n",
       "    }\n",
       "\n",
       "    .dataframe tbody tr th {\n",
       "        vertical-align: top;\n",
       "    }\n",
       "\n",
       "    .dataframe thead th {\n",
       "        text-align: right;\n",
       "    }\n",
       "</style>\n",
       "<table border=\"1\" class=\"dataframe\">\n",
       "  <thead>\n",
       "    <tr style=\"text-align: right;\">\n",
       "      <th></th>\n",
       "      <th>date_read</th>\n",
       "    </tr>\n",
       "  </thead>\n",
       "  <tbody>\n",
       "    <tr>\n",
       "      <th>65</th>\n",
       "      <td>2020-07-20</td>\n",
       "    </tr>\n",
       "    <tr>\n",
       "      <th>66</th>\n",
       "      <td>2020-07-20</td>\n",
       "    </tr>\n",
       "    <tr>\n",
       "      <th>67</th>\n",
       "      <td>2020-07-20</td>\n",
       "    </tr>\n",
       "    <tr>\n",
       "      <th>68</th>\n",
       "      <td>2020-07-20</td>\n",
       "    </tr>\n",
       "    <tr>\n",
       "      <th>69</th>\n",
       "      <td>2020-07-20</td>\n",
       "    </tr>\n",
       "  </tbody>\n",
       "</table>\n",
       "</div>"
      ],
      "text/plain": [
       "    date_read\n",
       "65 2020-07-20\n",
       "66 2020-07-20\n",
       "67 2020-07-20\n",
       "68 2020-07-20\n",
       "69 2020-07-20"
      ]
     },
     "execution_count": 236,
     "metadata": {},
     "output_type": "execute_result"
    }
   ],
   "source": [
    "user_reading.tail()"
   ]
  },
  {
   "cell_type": "markdown",
   "metadata": {},
   "source": [
    "**Sample random articles from 'clean.csv'**"
   ]
  },
  {
   "cell_type": "code",
   "execution_count": 35,
   "metadata": {},
   "outputs": [],
   "source": [
    "# Create subset of clean.csv with articles included in reading date range (July 14 - July 20)\n",
    "\n",
    "\"\"\"start_date = pd.to_datetime('2020-07-13', utc=True)\n",
    "end_date = pd.to_datetime('2020-07-20', utc=True)\n",
    "\n",
    "start_date = start_date.tz_convert('US/Pacific')\n",
    "end_date = end_date.tz_convert('US/Pacific')\"\"\""
   ]
  },
  {
   "cell_type": "code",
   "execution_count": 237,
   "metadata": {},
   "outputs": [
    {
     "data": {
      "text/plain": [
       "str"
      ]
     },
     "execution_count": 237,
     "metadata": {},
     "output_type": "execute_result"
    }
   ],
   "source": [
    "type(clean.iloc[0, 4])"
   ]
  },
  {
   "cell_type": "code",
   "execution_count": 249,
   "metadata": {},
   "outputs": [],
   "source": [
    "temp = pd.DataFrame(columns=['outlet', 'url', 'title', 'authors', 'publish_date', 'text', 'keywords',\n",
    "       'article_id'])\n",
    "\n",
    "for i in range(len(clean)):\n",
    "    if (datetime.datetime.strptime(clean.iloc[i, 4], \"%Y-%m-%d\") >= start) and ((datetime.datetime.strptime(clean.iloc[i, 4], \"%Y-%m-%d\")) <= end):\n",
    "        temp.loc[i] = clean.iloc[i, :]"
   ]
  },
  {
   "cell_type": "code",
   "execution_count": 251,
   "metadata": {},
   "outputs": [],
   "source": [
    "#temp = clean[(datetime.datetime.strptime(clean['publish_date'], \"%d-%m-%Y\") >= start) & ((datetime.datetime.strptime(clean['publish_date'], \"%d-%m-%Y\")) <= end)]\n",
    "temp = temp[['publish_date', 'outlet', 'url', 'title']]\n",
    "temp.reset_index(drop=True, inplace=True)"
   ]
  },
  {
   "cell_type": "code",
   "execution_count": 252,
   "metadata": {},
   "outputs": [
    {
     "data": {
      "text/html": [
       "<div>\n",
       "<style scoped>\n",
       "    .dataframe tbody tr th:only-of-type {\n",
       "        vertical-align: middle;\n",
       "    }\n",
       "\n",
       "    .dataframe tbody tr th {\n",
       "        vertical-align: top;\n",
       "    }\n",
       "\n",
       "    .dataframe thead th {\n",
       "        text-align: right;\n",
       "    }\n",
       "</style>\n",
       "<table border=\"1\" class=\"dataframe\">\n",
       "  <thead>\n",
       "    <tr style=\"text-align: right;\">\n",
       "      <th></th>\n",
       "      <th>publish_date</th>\n",
       "      <th>outlet</th>\n",
       "      <th>url</th>\n",
       "      <th>title</th>\n",
       "    </tr>\n",
       "  </thead>\n",
       "  <tbody>\n",
       "    <tr>\n",
       "      <th>0</th>\n",
       "      <td>2020-07-16</td>\n",
       "      <td>ctvnews</td>\n",
       "      <td>https://www.ctvnews.ca/health/coronavirus/ariz...</td>\n",
       "      <td>Arizona man in a coma from coronavirus wakes u...</td>\n",
       "    </tr>\n",
       "    <tr>\n",
       "      <th>1</th>\n",
       "      <td>2020-07-14</td>\n",
       "      <td>ctvnews</td>\n",
       "      <td>https://www.ctvnews.ca/health/coronavirus/how-...</td>\n",
       "      <td>How deadly is COVID-19 for children? Here's wh...</td>\n",
       "    </tr>\n",
       "    <tr>\n",
       "      <th>2</th>\n",
       "      <td>2020-07-16</td>\n",
       "      <td>ctvnews</td>\n",
       "      <td>https://bc.ctvnews.ca/covid-19-outbreak-in-new...</td>\n",
       "      <td>COVID-19 outbreak in newborn intensive care un...</td>\n",
       "    </tr>\n",
       "    <tr>\n",
       "      <th>3</th>\n",
       "      <td>2020-07-15</td>\n",
       "      <td>ctvnews</td>\n",
       "      <td>https://www.ctvnews.ca/health/coronavirus/why-...</td>\n",
       "      <td>Why a closed border hasn't kept international ...</td>\n",
       "    </tr>\n",
       "    <tr>\n",
       "      <th>4</th>\n",
       "      <td>2020-07-17</td>\n",
       "      <td>ctvnews</td>\n",
       "      <td>https://montreal.ctvnews.ca/quebec-recovery-nu...</td>\n",
       "      <td>Quebec recovery numbers skyrocket after new sy...</td>\n",
       "    </tr>\n",
       "    <tr>\n",
       "      <th>...</th>\n",
       "      <td>...</td>\n",
       "      <td>...</td>\n",
       "      <td>...</td>\n",
       "      <td>...</td>\n",
       "    </tr>\n",
       "    <tr>\n",
       "      <th>632</th>\n",
       "      <td>2020-07-15</td>\n",
       "      <td>northdeltareporter</td>\n",
       "      <td>https://www.northdeltareporter.com/entertainme...</td>\n",
       "      <td>‘Digital Stage’ gigs embraced by Surrey musici...</td>\n",
       "    </tr>\n",
       "    <tr>\n",
       "      <th>633</th>\n",
       "      <td>2020-07-14</td>\n",
       "      <td>northdeltareporter</td>\n",
       "      <td>https://www.northdeltareporter.com/entertainme...</td>\n",
       "      <td>B.C.’s virtual ‘SoundON’ concerts kick off wit...</td>\n",
       "    </tr>\n",
       "    <tr>\n",
       "      <th>634</th>\n",
       "      <td>2020-07-15</td>\n",
       "      <td>northdeltareporter</td>\n",
       "      <td>https://www.northdeltareporter.com/opinion/col...</td>\n",
       "      <td>COLUMN: Me to We Scandal – Should Teachers Be ...</td>\n",
       "    </tr>\n",
       "    <tr>\n",
       "      <th>635</th>\n",
       "      <td>2020-07-17</td>\n",
       "      <td>surreynowleader</td>\n",
       "      <td>https://www.surreynowleader.com/news/re-openin...</td>\n",
       "      <td>Re-opening of White Rock parkade awaits counci...</td>\n",
       "    </tr>\n",
       "    <tr>\n",
       "      <th>636</th>\n",
       "      <td>2020-07-14</td>\n",
       "      <td>surreynowleader</td>\n",
       "      <td>https://www.surreynowleader.com/news/honks-sir...</td>\n",
       "      <td>Honks, sirens and thumbs-up at ‘Keep the RCMP ...</td>\n",
       "    </tr>\n",
       "  </tbody>\n",
       "</table>\n",
       "<p>637 rows × 4 columns</p>\n",
       "</div>"
      ],
      "text/plain": [
       "    publish_date              outlet  \\\n",
       "0     2020-07-16             ctvnews   \n",
       "1     2020-07-14             ctvnews   \n",
       "2     2020-07-16             ctvnews   \n",
       "3     2020-07-15             ctvnews   \n",
       "4     2020-07-17             ctvnews   \n",
       "..           ...                 ...   \n",
       "632   2020-07-15  northdeltareporter   \n",
       "633   2020-07-14  northdeltareporter   \n",
       "634   2020-07-15  northdeltareporter   \n",
       "635   2020-07-17     surreynowleader   \n",
       "636   2020-07-14     surreynowleader   \n",
       "\n",
       "                                                   url  \\\n",
       "0    https://www.ctvnews.ca/health/coronavirus/ariz...   \n",
       "1    https://www.ctvnews.ca/health/coronavirus/how-...   \n",
       "2    https://bc.ctvnews.ca/covid-19-outbreak-in-new...   \n",
       "3    https://www.ctvnews.ca/health/coronavirus/why-...   \n",
       "4    https://montreal.ctvnews.ca/quebec-recovery-nu...   \n",
       "..                                                 ...   \n",
       "632  https://www.northdeltareporter.com/entertainme...   \n",
       "633  https://www.northdeltareporter.com/entertainme...   \n",
       "634  https://www.northdeltareporter.com/opinion/col...   \n",
       "635  https://www.surreynowleader.com/news/re-openin...   \n",
       "636  https://www.surreynowleader.com/news/honks-sir...   \n",
       "\n",
       "                                                 title  \n",
       "0    Arizona man in a coma from coronavirus wakes u...  \n",
       "1    How deadly is COVID-19 for children? Here's wh...  \n",
       "2    COVID-19 outbreak in newborn intensive care un...  \n",
       "3    Why a closed border hasn't kept international ...  \n",
       "4    Quebec recovery numbers skyrocket after new sy...  \n",
       "..                                                 ...  \n",
       "632  ‘Digital Stage’ gigs embraced by Surrey musici...  \n",
       "633  B.C.’s virtual ‘SoundON’ concerts kick off wit...  \n",
       "634  COLUMN: Me to We Scandal – Should Teachers Be ...  \n",
       "635  Re-opening of White Rock parkade awaits counci...  \n",
       "636  Honks, sirens and thumbs-up at ‘Keep the RCMP ...  \n",
       "\n",
       "[637 rows x 4 columns]"
      ]
     },
     "execution_count": 252,
     "metadata": {},
     "output_type": "execute_result"
    }
   ],
   "source": [
    "temp"
   ]
  },
  {
   "cell_type": "code",
   "execution_count": 262,
   "metadata": {},
   "outputs": [
    {
     "data": {
      "text/plain": [
       "2020-07-15    10\n",
       "2020-07-20    10\n",
       "2020-07-18    10\n",
       "2020-07-16    10\n",
       "2020-07-14    10\n",
       "2020-07-19    10\n",
       "2020-07-17    10\n",
       "Name: date_read, dtype: int64"
      ]
     },
     "execution_count": 262,
     "metadata": {},
     "output_type": "execute_result"
    }
   ],
   "source": [
    "user_reading['date_read'].value_counts()"
   ]
  },
  {
   "cell_type": "code",
   "execution_count": 261,
   "metadata": {
    "scrolled": true
   },
   "outputs": [
    {
     "data": {
      "text/plain": [
       "2020-07-17    234\n",
       "2020-07-16    222\n",
       "2020-07-15    108\n",
       "2020-07-14     73\n",
       "Name: publish_date, dtype: int64"
      ]
     },
     "execution_count": 261,
     "metadata": {},
     "output_type": "execute_result"
    }
   ],
   "source": [
    "temp['publish_date'].value_counts()"
   ]
  },
  {
   "cell_type": "code",
   "execution_count": 273,
   "metadata": {},
   "outputs": [
    {
     "name": "stdout",
     "output_type": "stream",
     "text": [
      "73\n",
      "73\n",
      "73\n",
      "73\n",
      "73\n",
      "73\n",
      "73\n",
      "73\n",
      "73\n",
      "73\n",
      "181\n",
      "181\n",
      "181\n",
      "181\n",
      "181\n",
      "181\n",
      "181\n",
      "181\n",
      "181\n",
      "181\n",
      "403\n",
      "403\n",
      "403\n",
      "403\n",
      "403\n",
      "403\n",
      "403\n",
      "403\n",
      "403\n",
      "403\n",
      "637\n",
      "637\n",
      "637\n",
      "637\n",
      "637\n",
      "637\n",
      "637\n",
      "637\n",
      "637\n",
      "637\n",
      "637\n",
      "637\n",
      "637\n",
      "637\n",
      "637\n",
      "637\n",
      "637\n",
      "637\n",
      "637\n",
      "637\n",
      "637\n",
      "637\n",
      "637\n",
      "637\n",
      "637\n",
      "637\n",
      "637\n",
      "637\n",
      "637\n",
      "637\n",
      "637\n",
      "637\n",
      "637\n",
      "637\n",
      "637\n",
      "637\n",
      "637\n",
      "637\n",
      "637\n",
      "637\n"
     ]
    }
   ],
   "source": [
    "# For each date read, sample one article (published before date read)\n",
    "\n",
    "new_temp = pd.DataFrame(columns=['publish_date', 'outlet', 'url', 'title'])\n",
    "\n",
    "for i in range(70): \n",
    "    holder = pd.DataFrame(columns=['publish_date', 'outlet', 'url', 'title'])\n",
    "    d_ur = user_reading.loc[i]['date_read']\n",
    "    \n",
    "    for j in range(len(temp)):\n",
    "        d_temp = datetime.datetime.strptime(temp.iloc[j, 0], \"%Y-%m-%d\")\n",
    "        \n",
    "        \n",
    "        if d_temp <= d_ur:\n",
    "            holder = holder.append(temp.iloc[j, :])\n",
    "            \n",
    "    print(str(len(holder)))\n",
    "        \n",
    "    x = holder.sample(1)\n",
    "    new_temp = new_temp.append(x)\n",
    "\n",
    "new_temp.reset_index(drop=True, inplace=True)"
   ]
  },
  {
   "cell_type": "code",
   "execution_count": 274,
   "metadata": {
    "scrolled": true
   },
   "outputs": [],
   "source": [
    "user_reading = pd.concat([user_reading, new_temp], axis=1)"
   ]
  },
  {
   "cell_type": "markdown",
   "metadata": {},
   "source": [
    "**Create random ranges of for reading times**"
   ]
  },
  {
   "cell_type": "code",
   "execution_count": 275,
   "metadata": {},
   "outputs": [],
   "source": [
    "start_time = datetime.time(0,0,0)\n",
    "\n",
    "user_reading['start_time'] = start_time"
   ]
  },
  {
   "cell_type": "code",
   "execution_count": 276,
   "metadata": {},
   "outputs": [],
   "source": [
    "for i in range(len(user_reading)):\n",
    "    end_time = datetime.time(0, random.randint(1, 10), random.randint(0, 59))\n",
    "    user_reading.loc[i, 'end_time'] = end_time"
   ]
  },
  {
   "cell_type": "markdown",
   "metadata": {},
   "source": [
    "**Find reading time for article**"
   ]
  },
  {
   "cell_type": "code",
   "execution_count": 277,
   "metadata": {},
   "outputs": [],
   "source": [
    "from datetime import datetime, date, time\n",
    "\n",
    "for i in range(len(user_reading)):\n",
    "    diff = datetime.combine(date.today(), user_reading.loc[i, 'end_time']) - datetime.combine(date.today(), user_reading.loc[i, 'start_time'])\n",
    "    user_reading.loc[i, 'reading_time'] = diff.total_seconds() "
   ]
  },
  {
   "cell_type": "markdown",
   "metadata": {},
   "source": [
    "### Exploration on User Reading Dataset"
   ]
  },
  {
   "cell_type": "code",
   "execution_count": 278,
   "metadata": {},
   "outputs": [
    {
     "data": {
      "text/html": [
       "<div>\n",
       "<style scoped>\n",
       "    .dataframe tbody tr th:only-of-type {\n",
       "        vertical-align: middle;\n",
       "    }\n",
       "\n",
       "    .dataframe tbody tr th {\n",
       "        vertical-align: top;\n",
       "    }\n",
       "\n",
       "    .dataframe thead th {\n",
       "        text-align: right;\n",
       "    }\n",
       "</style>\n",
       "<table border=\"1\" class=\"dataframe\">\n",
       "  <thead>\n",
       "    <tr style=\"text-align: right;\">\n",
       "      <th></th>\n",
       "      <th>date_read</th>\n",
       "      <th>publish_date</th>\n",
       "      <th>outlet</th>\n",
       "      <th>url</th>\n",
       "      <th>title</th>\n",
       "      <th>start_time</th>\n",
       "      <th>end_time</th>\n",
       "      <th>reading_time</th>\n",
       "    </tr>\n",
       "  </thead>\n",
       "  <tbody>\n",
       "    <tr>\n",
       "      <th>0</th>\n",
       "      <td>2020-07-14</td>\n",
       "      <td>2020-07-14</td>\n",
       "      <td>abbynews</td>\n",
       "      <td>https://www.abbynews.com/sports/chilliwack-chi...</td>\n",
       "      <td>Chilliwack Chiefs alum Jordan Kawaguchi named ...</td>\n",
       "      <td>00:00:00</td>\n",
       "      <td>00:02:27</td>\n",
       "      <td>147.0</td>\n",
       "    </tr>\n",
       "    <tr>\n",
       "      <th>1</th>\n",
       "      <td>2020-07-14</td>\n",
       "      <td>2020-07-14</td>\n",
       "      <td>thestar</td>\n",
       "      <td>https://www.thestar.com/entertainment/televisi...</td>\n",
       "      <td>Naya Rivera lent her immense talent to ‘Glee.’...</td>\n",
       "      <td>00:00:00</td>\n",
       "      <td>00:02:50</td>\n",
       "      <td>170.0</td>\n",
       "    </tr>\n",
       "    <tr>\n",
       "      <th>2</th>\n",
       "      <td>2020-07-14</td>\n",
       "      <td>2020-07-14</td>\n",
       "      <td>mapleridgenews</td>\n",
       "      <td>https://www.mapleridgenews.com/community/you-p...</td>\n",
       "      <td>You-pick blueberry producers in Maple Ridge an...</td>\n",
       "      <td>00:00:00</td>\n",
       "      <td>00:05:16</td>\n",
       "      <td>316.0</td>\n",
       "    </tr>\n",
       "    <tr>\n",
       "      <th>3</th>\n",
       "      <td>2020-07-14</td>\n",
       "      <td>2020-07-14</td>\n",
       "      <td>northdeltareporter</td>\n",
       "      <td>https://www.northdeltareporter.com/business/so...</td>\n",
       "      <td>South Surrey car wash to help raise money for ...</td>\n",
       "      <td>00:00:00</td>\n",
       "      <td>00:06:07</td>\n",
       "      <td>367.0</td>\n",
       "    </tr>\n",
       "    <tr>\n",
       "      <th>4</th>\n",
       "      <td>2020-07-14</td>\n",
       "      <td>2020-07-14</td>\n",
       "      <td>ctvnews</td>\n",
       "      <td>https://bc.ctvnews.ca/dr-henry-says-b-c-s-surg...</td>\n",
       "      <td>Dr. Henry says B.C.'s surge in COVID-19 cases ...</td>\n",
       "      <td>00:00:00</td>\n",
       "      <td>00:01:52</td>\n",
       "      <td>112.0</td>\n",
       "    </tr>\n",
       "  </tbody>\n",
       "</table>\n",
       "</div>"
      ],
      "text/plain": [
       "   date_read publish_date              outlet  \\\n",
       "0 2020-07-14   2020-07-14            abbynews   \n",
       "1 2020-07-14   2020-07-14             thestar   \n",
       "2 2020-07-14   2020-07-14      mapleridgenews   \n",
       "3 2020-07-14   2020-07-14  northdeltareporter   \n",
       "4 2020-07-14   2020-07-14             ctvnews   \n",
       "\n",
       "                                                 url  \\\n",
       "0  https://www.abbynews.com/sports/chilliwack-chi...   \n",
       "1  https://www.thestar.com/entertainment/televisi...   \n",
       "2  https://www.mapleridgenews.com/community/you-p...   \n",
       "3  https://www.northdeltareporter.com/business/so...   \n",
       "4  https://bc.ctvnews.ca/dr-henry-says-b-c-s-surg...   \n",
       "\n",
       "                                               title start_time  end_time  \\\n",
       "0  Chilliwack Chiefs alum Jordan Kawaguchi named ...   00:00:00  00:02:27   \n",
       "1  Naya Rivera lent her immense talent to ‘Glee.’...   00:00:00  00:02:50   \n",
       "2  You-pick blueberry producers in Maple Ridge an...   00:00:00  00:05:16   \n",
       "3  South Surrey car wash to help raise money for ...   00:00:00  00:06:07   \n",
       "4  Dr. Henry says B.C.'s surge in COVID-19 cases ...   00:00:00  00:01:52   \n",
       "\n",
       "   reading_time  \n",
       "0         147.0  \n",
       "1         170.0  \n",
       "2         316.0  \n",
       "3         367.0  \n",
       "4         112.0  "
      ]
     },
     "execution_count": 278,
     "metadata": {},
     "output_type": "execute_result"
    }
   ],
   "source": [
    "user_reading.head()"
   ]
  },
  {
   "cell_type": "code",
   "execution_count": 279,
   "metadata": {},
   "outputs": [
    {
     "data": {
      "text/plain": [
       "ctvnews                21\n",
       "thestar                12\n",
       "langleyadvancetimes     9\n",
       "torontosun              8\n",
       "abbynews                8\n",
       "mapleridgenews          6\n",
       "theprogress             3\n",
       "northdeltareporter      2\n",
       "cp24                    1\n",
       "Name: outlet, dtype: int64"
      ]
     },
     "execution_count": 279,
     "metadata": {},
     "output_type": "execute_result"
    }
   ],
   "source": [
    "# To show which outlet articles are read from \n",
    "\n",
    "user_reading['outlet'].value_counts()"
   ]
  },
  {
   "cell_type": "code",
   "execution_count": 280,
   "metadata": {},
   "outputs": [
    {
     "data": {
      "text/plain": [
       "5.6519047619047615"
      ]
     },
     "execution_count": 280,
     "metadata": {},
     "output_type": "execute_result"
    }
   ],
   "source": [
    "# Average reading time in minutes \n",
    "\n",
    "np.average(user_reading['reading_time'])/60"
   ]
  },
  {
   "cell_type": "markdown",
   "metadata": {},
   "source": [
    "**Exporting the dataset as a .csv file**"
   ]
  },
  {
   "cell_type": "code",
   "execution_count": 281,
   "metadata": {},
   "outputs": [],
   "source": [
    "user_reading.to_csv('user_reading_cleaned.csv')"
   ]
  },
  {
   "cell_type": "code",
   "execution_count": null,
   "metadata": {},
   "outputs": [],
   "source": []
  }
 ],
 "metadata": {
  "kernelspec": {
   "display_name": "Python 3",
   "language": "python",
   "name": "python3"
  },
  "language_info": {
   "codemirror_mode": {
    "name": "ipython",
    "version": 3
   },
   "file_extension": ".py",
   "mimetype": "text/x-python",
   "name": "python",
   "nbconvert_exporter": "python",
   "pygments_lexer": "ipython3",
   "version": "3.7.6"
  }
 },
 "nbformat": 4,
 "nbformat_minor": 4
}
