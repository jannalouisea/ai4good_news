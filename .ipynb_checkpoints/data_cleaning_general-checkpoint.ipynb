{
 "cells": [
  {
   "cell_type": "code",
   "execution_count": 1,
   "metadata": {},
   "outputs": [],
   "source": [
    "import pandas as pd\n",
    "import numpy as np\n",
    "import random"
   ]
  },
  {
   "cell_type": "code",
   "execution_count": 8,
   "metadata": {},
   "outputs": [],
   "source": [
    "the_record = pd.read_csv('the_record.csv').drop(columns=['Unnamed: 0'])\n",
    "clean = pd.read_csv('clean.csv').drop(columns=['Unnamed: 0'])"
   ]
  },
  {
   "cell_type": "code",
   "execution_count": 5,
   "metadata": {},
   "outputs": [
    {
     "data": {
      "text/html": [
       "<div>\n",
       "<style scoped>\n",
       "    .dataframe tbody tr th:only-of-type {\n",
       "        vertical-align: middle;\n",
       "    }\n",
       "\n",
       "    .dataframe tbody tr th {\n",
       "        vertical-align: top;\n",
       "    }\n",
       "\n",
       "    .dataframe thead th {\n",
       "        text-align: right;\n",
       "    }\n",
       "</style>\n",
       "<table border=\"1\" class=\"dataframe\">\n",
       "  <thead>\n",
       "    <tr style=\"text-align: right;\">\n",
       "      <th></th>\n",
       "      <th>outlet</th>\n",
       "      <th>url</th>\n",
       "      <th>title</th>\n",
       "      <th>authors</th>\n",
       "      <th>publish_date</th>\n",
       "      <th>text</th>\n",
       "    </tr>\n",
       "  </thead>\n",
       "  <tbody>\n",
       "    <tr>\n",
       "      <th>0</th>\n",
       "      <td>The Record</td>\n",
       "      <td>https://www.therecord.com/news/waterloo-region...</td>\n",
       "      <td>Two new COVID-19 cases in region</td>\n",
       "      <td>['Johanna Weidner']</td>\n",
       "      <td>Tue., July 14, 2020</td>\n",
       "      <td>WATERLOO REGION — COVID-19 cases in Waterloo R...</td>\n",
       "    </tr>\n",
       "    <tr>\n",
       "      <th>1</th>\n",
       "      <td>The Record</td>\n",
       "      <td>https://www.therecord.com/news/waterloo-region...</td>\n",
       "      <td>Waterloo Region businesses hope people ‘want t...</td>\n",
       "      <td>['Robert Williams']</td>\n",
       "      <td>Tue., July 14, 2020</td>\n",
       "      <td>WATERLOO REGION — The lights were off, the sig...</td>\n",
       "    </tr>\n",
       "    <tr>\n",
       "      <th>2</th>\n",
       "      <td>The Record</td>\n",
       "      <td>https://www.therecord.com/news/waterloo-region...</td>\n",
       "      <td>UPDATE: Man who murdered Kitchener woman dies ...</td>\n",
       "      <td>['Gordon Paul']</td>\n",
       "      <td>Tue., July 14, 2020</td>\n",
       "      <td>KITCHENER — Hugh McColl told a pack of lies on...</td>\n",
       "    </tr>\n",
       "    <tr>\n",
       "      <th>3</th>\n",
       "      <td>The Record</td>\n",
       "      <td>https://www.therecord.com/news/waterloo-region...</td>\n",
       "      <td>A woman walking her dog struck by vehicle in K...</td>\n",
       "      <td>['Laura Booth', 'Liz Monteiro']</td>\n",
       "      <td>Tue., July 14, 2020</td>\n",
       "      <td>KITCHENER — A woman walking her dog was struck...</td>\n",
       "    </tr>\n",
       "    <tr>\n",
       "      <th>4</th>\n",
       "      <td>The Record</td>\n",
       "      <td>https://www.therecord.com/news/waterloo-region...</td>\n",
       "      <td>Premier Doug Ford visits Kitchener and Cambridge</td>\n",
       "      <td>['Waterloo Region Record']</td>\n",
       "      <td>Tue., July 14, 2020</td>\n",
       "      <td>WATERLOO REGION — Premier Doug Ford will be ma...</td>\n",
       "    </tr>\n",
       "  </tbody>\n",
       "</table>\n",
       "</div>"
      ],
      "text/plain": [
       "       outlet                                                url  \\\n",
       "0  The Record  https://www.therecord.com/news/waterloo-region...   \n",
       "1  The Record  https://www.therecord.com/news/waterloo-region...   \n",
       "2  The Record  https://www.therecord.com/news/waterloo-region...   \n",
       "3  The Record  https://www.therecord.com/news/waterloo-region...   \n",
       "4  The Record  https://www.therecord.com/news/waterloo-region...   \n",
       "\n",
       "                                               title  \\\n",
       "0                   Two new COVID-19 cases in region   \n",
       "1  Waterloo Region businesses hope people ‘want t...   \n",
       "2  UPDATE: Man who murdered Kitchener woman dies ...   \n",
       "3  A woman walking her dog struck by vehicle in K...   \n",
       "4   Premier Doug Ford visits Kitchener and Cambridge   \n",
       "\n",
       "                           authors         publish_date  \\\n",
       "0              ['Johanna Weidner']  Tue., July 14, 2020   \n",
       "1              ['Robert Williams']  Tue., July 14, 2020   \n",
       "2                  ['Gordon Paul']  Tue., July 14, 2020   \n",
       "3  ['Laura Booth', 'Liz Monteiro']  Tue., July 14, 2020   \n",
       "4       ['Waterloo Region Record']  Tue., July 14, 2020   \n",
       "\n",
       "                                                text  \n",
       "0  WATERLOO REGION — COVID-19 cases in Waterloo R...  \n",
       "1  WATERLOO REGION — The lights were off, the sig...  \n",
       "2  KITCHENER — Hugh McColl told a pack of lies on...  \n",
       "3  KITCHENER — A woman walking her dog was struck...  \n",
       "4  WATERLOO REGION — Premier Doug Ford will be ma...  "
      ]
     },
     "execution_count": 5,
     "metadata": {},
     "output_type": "execute_result"
    }
   ],
   "source": [
    "the_record.head()"
   ]
  },
  {
   "cell_type": "code",
   "execution_count": 6,
   "metadata": {},
   "outputs": [
    {
     "data": {
      "text/plain": [
       "(280, 6)"
      ]
     },
     "execution_count": 6,
     "metadata": {},
     "output_type": "execute_result"
    }
   ],
   "source": [
    "the_record.shape"
   ]
  },
  {
   "cell_type": "code",
   "execution_count": 9,
   "metadata": {},
   "outputs": [
    {
     "data": {
      "text/html": [
       "<div>\n",
       "<style scoped>\n",
       "    .dataframe tbody tr th:only-of-type {\n",
       "        vertical-align: middle;\n",
       "    }\n",
       "\n",
       "    .dataframe tbody tr th {\n",
       "        vertical-align: top;\n",
       "    }\n",
       "\n",
       "    .dataframe thead th {\n",
       "        text-align: right;\n",
       "    }\n",
       "</style>\n",
       "<table border=\"1\" class=\"dataframe\">\n",
       "  <thead>\n",
       "    <tr style=\"text-align: right;\">\n",
       "      <th></th>\n",
       "      <th>outlet</th>\n",
       "      <th>url</th>\n",
       "      <th>title</th>\n",
       "      <th>authors</th>\n",
       "      <th>publish_date</th>\n",
       "      <th>text</th>\n",
       "      <th>keywords</th>\n",
       "    </tr>\n",
       "  </thead>\n",
       "  <tbody>\n",
       "    <tr>\n",
       "      <th>0</th>\n",
       "      <td>thestar</td>\n",
       "      <td>https://www.thestar.com/business/2020/07/11/th...</td>\n",
       "      <td>This Black woman entrepreneur built her hairst...</td>\n",
       "      <td>'Tess Kalinowski'</td>\n",
       "      <td>2020-07-11 00:00:00</td>\n",
       "      <td>The kinky and the curly are obvious. But the “...</td>\n",
       "      <td>[]</td>\n",
       "    </tr>\n",
       "    <tr>\n",
       "      <th>1</th>\n",
       "      <td>thestar</td>\n",
       "      <td>https://www.thestar.com/business/2020/07/13/th...</td>\n",
       "      <td>The world drinks less coffee while office work...</td>\n",
       "      <td>'Marvin G. Perez'</td>\n",
       "      <td>2020-07-13 00:00:00</td>\n",
       "      <td>In a work-from-home world, hitting the local c...</td>\n",
       "      <td>[]</td>\n",
       "    </tr>\n",
       "    <tr>\n",
       "      <th>2</th>\n",
       "      <td>thestar</td>\n",
       "      <td>https://www.thestar.com/business/2020/07/13/co...</td>\n",
       "      <td>Coronavirus surge is killing America’s small b...</td>\n",
       "      <td>'Emily Flitter'</td>\n",
       "      <td>2020-07-13 00:00:00</td>\n",
       "      <td>On the last Friday of June, after Gov. Greg Ab...</td>\n",
       "      <td>[]</td>\n",
       "    </tr>\n",
       "    <tr>\n",
       "      <th>3</th>\n",
       "      <td>thestar</td>\n",
       "      <td>https://www.thestar.com/wsj/business/2020/07/1...</td>\n",
       "      <td>At Disney, masks are required but ears are opt...</td>\n",
       "      <td>'Spencer Jakab'</td>\n",
       "      <td>2020-07-13 00:00:00</td>\n",
       "      <td>You can’t ward off Covid-19 by wishing upon a ...</td>\n",
       "      <td>[]</td>\n",
       "    </tr>\n",
       "    <tr>\n",
       "      <th>4</th>\n",
       "      <td>thestar</td>\n",
       "      <td>https://www.thestar.com/wsj/business/2020/07/1...</td>\n",
       "      <td>Tesla is now bigger than JPMorgan and Procter ...</td>\n",
       "      <td>'Gunjan Banerji'</td>\n",
       "      <td>2020-07-13 00:00:00</td>\n",
       "      <td>Tesla Inc.’s shares vaulted toward another rec...</td>\n",
       "      <td>[]</td>\n",
       "    </tr>\n",
       "  </tbody>\n",
       "</table>\n",
       "</div>"
      ],
      "text/plain": [
       "    outlet                                                url  \\\n",
       "0  thestar  https://www.thestar.com/business/2020/07/11/th...   \n",
       "1  thestar  https://www.thestar.com/business/2020/07/13/th...   \n",
       "2  thestar  https://www.thestar.com/business/2020/07/13/co...   \n",
       "3  thestar  https://www.thestar.com/wsj/business/2020/07/1...   \n",
       "4  thestar  https://www.thestar.com/wsj/business/2020/07/1...   \n",
       "\n",
       "                                               title            authors  \\\n",
       "0  This Black woman entrepreneur built her hairst...  'Tess Kalinowski'   \n",
       "1  The world drinks less coffee while office work...  'Marvin G. Perez'   \n",
       "2  Coronavirus surge is killing America’s small b...    'Emily Flitter'   \n",
       "3  At Disney, masks are required but ears are opt...    'Spencer Jakab'   \n",
       "4  Tesla is now bigger than JPMorgan and Procter ...   'Gunjan Banerji'   \n",
       "\n",
       "          publish_date                                               text  \\\n",
       "0  2020-07-11 00:00:00  The kinky and the curly are obvious. But the “...   \n",
       "1  2020-07-13 00:00:00  In a work-from-home world, hitting the local c...   \n",
       "2  2020-07-13 00:00:00  On the last Friday of June, after Gov. Greg Ab...   \n",
       "3  2020-07-13 00:00:00  You can’t ward off Covid-19 by wishing upon a ...   \n",
       "4  2020-07-13 00:00:00  Tesla Inc.’s shares vaulted toward another rec...   \n",
       "\n",
       "  keywords  \n",
       "0       []  \n",
       "1       []  \n",
       "2       []  \n",
       "3       []  \n",
       "4       []  "
      ]
     },
     "execution_count": 9,
     "metadata": {},
     "output_type": "execute_result"
    }
   ],
   "source": [
    "clean.head()"
   ]
  },
  {
   "cell_type": "code",
   "execution_count": 12,
   "metadata": {},
   "outputs": [
    {
     "data": {
      "text/html": [
       "<div>\n",
       "<style scoped>\n",
       "    .dataframe tbody tr th:only-of-type {\n",
       "        vertical-align: middle;\n",
       "    }\n",
       "\n",
       "    .dataframe tbody tr th {\n",
       "        vertical-align: top;\n",
       "    }\n",
       "\n",
       "    .dataframe thead th {\n",
       "        text-align: right;\n",
       "    }\n",
       "</style>\n",
       "<table border=\"1\" class=\"dataframe\">\n",
       "  <thead>\n",
       "    <tr style=\"text-align: right;\">\n",
       "      <th></th>\n",
       "      <th>outlet</th>\n",
       "      <th>url</th>\n",
       "      <th>title</th>\n",
       "      <th>authors</th>\n",
       "      <th>publish_date</th>\n",
       "      <th>text</th>\n",
       "    </tr>\n",
       "  </thead>\n",
       "  <tbody>\n",
       "    <tr>\n",
       "      <th>0</th>\n",
       "      <td>thestar</td>\n",
       "      <td>https://www.thestar.com/business/2020/07/11/th...</td>\n",
       "      <td>This Black woman entrepreneur built her hairst...</td>\n",
       "      <td>'Tess Kalinowski'</td>\n",
       "      <td>2020-07-11 00:00:00</td>\n",
       "      <td>The kinky and the curly are obvious. But the “...</td>\n",
       "    </tr>\n",
       "    <tr>\n",
       "      <th>1</th>\n",
       "      <td>thestar</td>\n",
       "      <td>https://www.thestar.com/business/2020/07/13/th...</td>\n",
       "      <td>The world drinks less coffee while office work...</td>\n",
       "      <td>'Marvin G. Perez'</td>\n",
       "      <td>2020-07-13 00:00:00</td>\n",
       "      <td>In a work-from-home world, hitting the local c...</td>\n",
       "    </tr>\n",
       "    <tr>\n",
       "      <th>2</th>\n",
       "      <td>thestar</td>\n",
       "      <td>https://www.thestar.com/business/2020/07/13/co...</td>\n",
       "      <td>Coronavirus surge is killing America’s small b...</td>\n",
       "      <td>'Emily Flitter'</td>\n",
       "      <td>2020-07-13 00:00:00</td>\n",
       "      <td>On the last Friday of June, after Gov. Greg Ab...</td>\n",
       "    </tr>\n",
       "    <tr>\n",
       "      <th>3</th>\n",
       "      <td>thestar</td>\n",
       "      <td>https://www.thestar.com/wsj/business/2020/07/1...</td>\n",
       "      <td>At Disney, masks are required but ears are opt...</td>\n",
       "      <td>'Spencer Jakab'</td>\n",
       "      <td>2020-07-13 00:00:00</td>\n",
       "      <td>You can’t ward off Covid-19 by wishing upon a ...</td>\n",
       "    </tr>\n",
       "    <tr>\n",
       "      <th>4</th>\n",
       "      <td>thestar</td>\n",
       "      <td>https://www.thestar.com/wsj/business/2020/07/1...</td>\n",
       "      <td>Tesla is now bigger than JPMorgan and Procter ...</td>\n",
       "      <td>'Gunjan Banerji'</td>\n",
       "      <td>2020-07-13 00:00:00</td>\n",
       "      <td>Tesla Inc.’s shares vaulted toward another rec...</td>\n",
       "    </tr>\n",
       "  </tbody>\n",
       "</table>\n",
       "</div>"
      ],
      "text/plain": [
       "    outlet                                                url  \\\n",
       "0  thestar  https://www.thestar.com/business/2020/07/11/th...   \n",
       "1  thestar  https://www.thestar.com/business/2020/07/13/th...   \n",
       "2  thestar  https://www.thestar.com/business/2020/07/13/co...   \n",
       "3  thestar  https://www.thestar.com/wsj/business/2020/07/1...   \n",
       "4  thestar  https://www.thestar.com/wsj/business/2020/07/1...   \n",
       "\n",
       "                                               title            authors  \\\n",
       "0  This Black woman entrepreneur built her hairst...  'Tess Kalinowski'   \n",
       "1  The world drinks less coffee while office work...  'Marvin G. Perez'   \n",
       "2  Coronavirus surge is killing America’s small b...    'Emily Flitter'   \n",
       "3  At Disney, masks are required but ears are opt...    'Spencer Jakab'   \n",
       "4  Tesla is now bigger than JPMorgan and Procter ...   'Gunjan Banerji'   \n",
       "\n",
       "          publish_date                                               text  \n",
       "0  2020-07-11 00:00:00  The kinky and the curly are obvious. But the “...  \n",
       "1  2020-07-13 00:00:00  In a work-from-home world, hitting the local c...  \n",
       "2  2020-07-13 00:00:00  On the last Friday of June, after Gov. Greg Ab...  \n",
       "3  2020-07-13 00:00:00  You can’t ward off Covid-19 by wishing upon a ...  \n",
       "4  2020-07-13 00:00:00  Tesla Inc.’s shares vaulted toward another rec...  "
      ]
     },
     "execution_count": 12,
     "metadata": {},
     "output_type": "execute_result"
    }
   ],
   "source": [
    "clean = clean.drop(columns=['keywords'])\n",
    "clean.head()"
   ]
  },
  {
   "cell_type": "code",
   "execution_count": null,
   "metadata": {},
   "outputs": [],
   "source": [
    "clean = pd.concat([clean, the_record])\n"
   ]
  },
  {
   "cell_type": "markdown",
   "metadata": {},
   "source": [
    "# Creating the User Reading Behavior Dataset"
   ]
  },
  {
   "cell_type": "code",
   "execution_count": 2,
   "metadata": {},
   "outputs": [],
   "source": [
    "clean = pd.read_csv('clean.csv').drop(columns=['Unnamed: 0'])"
   ]
  },
  {
   "cell_type": "code",
   "execution_count": 3,
   "metadata": {},
   "outputs": [
    {
     "data": {
      "text/plain": [
       "(4328, 7)"
      ]
     },
     "execution_count": 3,
     "metadata": {},
     "output_type": "execute_result"
    }
   ],
   "source": [
    "clean.shape "
   ]
  },
  {
   "cell_type": "code",
   "execution_count": 4,
   "metadata": {},
   "outputs": [],
   "source": [
    "# Drop all rows with NA as a value\n",
    "\n",
    "clean = clean.dropna()"
   ]
  },
  {
   "cell_type": "code",
   "execution_count": 5,
   "metadata": {},
   "outputs": [
    {
     "data": {
      "text/plain": [
       "(1362, 7)"
      ]
     },
     "execution_count": 5,
     "metadata": {},
     "output_type": "execute_result"
    }
   ],
   "source": [
    "clean.shape"
   ]
  },
  {
   "cell_type": "code",
   "execution_count": 6,
   "metadata": {},
   "outputs": [
    {
     "data": {
      "text/plain": [
       "<DstTzInfo 'US/Pacific' LMT-1 day, 16:07:00 STD>"
      ]
     },
     "execution_count": 6,
     "metadata": {},
     "output_type": "execute_result"
    }
   ],
   "source": [
    "#clean['publish_date'] = \n",
    "\n",
    "#pd.to_datetime(clean['publish_date']).apply(lambda x: x.tz_localize('UTC').tz_convert('US/Eastern'))\n",
    "\n",
    "clean['publish_date'] = pd.to_datetime(clean['publish_date'], utc=True)\n",
    "clean.set_index('publish_date', drop=False, inplace=True)\n",
    "clean.index = clean.index.tz_convert('US/Pacific')\n",
    "\n",
    "clean.index.tzinfo\n",
    "#clean"
   ]
  },
  {
   "cell_type": "markdown",
   "metadata": {},
   "source": [
    "For user reading dataset, columns will include:\n",
    "\n",
    "- date (read)\n",
    "- outlet \n",
    "- url\n",
    "- title\n",
    "- start_time\n",
    "- finish_time\n",
    "- reading_time"
   ]
  },
  {
   "cell_type": "markdown",
   "metadata": {},
   "source": [
    "**Create arbitrary number of dates (in the range of a week)**"
   ]
  },
  {
   "cell_type": "code",
   "execution_count": 7,
   "metadata": {},
   "outputs": [],
   "source": [
    "import datetime\n",
    "import pytz"
   ]
  },
  {
   "cell_type": "code",
   "execution_count": 8,
   "metadata": {},
   "outputs": [],
   "source": [
    "datelist = []\n",
    "\n",
    "for x in range(10): \n",
    "    x = pd.date_range(end = datetime.datetime.today(), periods = 7).to_pydatetime().tolist()\n",
    "    \n",
    "    for i in x: \n",
    "        day = pd.to_datetime(i, utc=True)\n",
    "        day.tz_convert('US/Pacific')\n",
    "        datelist.append(day)"
   ]
  },
  {
   "cell_type": "code",
   "execution_count": 9,
   "metadata": {
    "scrolled": true
   },
   "outputs": [],
   "source": [
    "user_reading = pd.DataFrame({'date_read': datelist})\n",
    "user_reading = user_reading.sort_values(by='date_read', ascending= True)\n",
    "user_reading.reset_index(drop=True, inplace=True)"
   ]
  },
  {
   "cell_type": "code",
   "execution_count": 10,
   "metadata": {},
   "outputs": [
    {
     "data": {
      "text/plain": [
       "pandas.core.series.Series"
      ]
     },
     "execution_count": 10,
     "metadata": {},
     "output_type": "execute_result"
    }
   ],
   "source": [
    "type(user_reading['date_read'])"
   ]
  },
  {
   "cell_type": "code",
   "execution_count": 11,
   "metadata": {
    "scrolled": false
   },
   "outputs": [
    {
     "data": {
      "text/html": [
       "<div>\n",
       "<style scoped>\n",
       "    .dataframe tbody tr th:only-of-type {\n",
       "        vertical-align: middle;\n",
       "    }\n",
       "\n",
       "    .dataframe tbody tr th {\n",
       "        vertical-align: top;\n",
       "    }\n",
       "\n",
       "    .dataframe thead th {\n",
       "        text-align: right;\n",
       "    }\n",
       "</style>\n",
       "<table border=\"1\" class=\"dataframe\">\n",
       "  <thead>\n",
       "    <tr style=\"text-align: right;\">\n",
       "      <th></th>\n",
       "      <th>date_read</th>\n",
       "    </tr>\n",
       "  </thead>\n",
       "  <tbody>\n",
       "    <tr>\n",
       "      <th>65</th>\n",
       "      <td>2020-07-20 21:37:14.089588+00:00</td>\n",
       "    </tr>\n",
       "    <tr>\n",
       "      <th>66</th>\n",
       "      <td>2020-07-20 21:37:14.092140+00:00</td>\n",
       "    </tr>\n",
       "    <tr>\n",
       "      <th>67</th>\n",
       "      <td>2020-07-20 21:37:14.094022+00:00</td>\n",
       "    </tr>\n",
       "    <tr>\n",
       "      <th>68</th>\n",
       "      <td>2020-07-20 21:37:14.095346+00:00</td>\n",
       "    </tr>\n",
       "    <tr>\n",
       "      <th>69</th>\n",
       "      <td>2020-07-20 21:37:14.096598+00:00</td>\n",
       "    </tr>\n",
       "  </tbody>\n",
       "</table>\n",
       "</div>"
      ],
      "text/plain": [
       "                          date_read\n",
       "65 2020-07-20 21:37:14.089588+00:00\n",
       "66 2020-07-20 21:37:14.092140+00:00\n",
       "67 2020-07-20 21:37:14.094022+00:00\n",
       "68 2020-07-20 21:37:14.095346+00:00\n",
       "69 2020-07-20 21:37:14.096598+00:00"
      ]
     },
     "execution_count": 11,
     "metadata": {},
     "output_type": "execute_result"
    }
   ],
   "source": [
    "user_reading.tail()"
   ]
  },
  {
   "cell_type": "markdown",
   "metadata": {},
   "source": [
    "**Sample random articles from 'clean.csv'**"
   ]
  },
  {
   "cell_type": "code",
   "execution_count": 12,
   "metadata": {},
   "outputs": [],
   "source": [
    "# Create subset of clean.csv with articles included in reading date range (July 14 - July 20)\n",
    "\n",
    "start_date = pd.to_datetime('2020-07-13', utc=True)\n",
    "end_date = pd.to_datetime('2020-07-20', utc=True)\n",
    "\n",
    "start_date = start_date.tz_convert('US/Pacific')\n",
    "end_date = end_date.tz_convert('US/Pacific')"
   ]
  },
  {
   "cell_type": "code",
   "execution_count": 13,
   "metadata": {},
   "outputs": [],
   "source": [
    "temp = clean[(clean['publish_date'] > start_date) & (clean['publish_date'] < end_date)]\n",
    "temp = temp[['publish_date', 'outlet', 'url', 'title']]\n",
    "temp.reset_index(drop=True, inplace=True)"
   ]
  },
  {
   "cell_type": "code",
   "execution_count": 14,
   "metadata": {},
   "outputs": [
    {
     "data": {
      "text/html": [
       "<div>\n",
       "<style scoped>\n",
       "    .dataframe tbody tr th:only-of-type {\n",
       "        vertical-align: middle;\n",
       "    }\n",
       "\n",
       "    .dataframe tbody tr th {\n",
       "        vertical-align: top;\n",
       "    }\n",
       "\n",
       "    .dataframe thead th {\n",
       "        text-align: right;\n",
       "    }\n",
       "</style>\n",
       "<table border=\"1\" class=\"dataframe\">\n",
       "  <thead>\n",
       "    <tr style=\"text-align: right;\">\n",
       "      <th></th>\n",
       "      <th>publish_date</th>\n",
       "      <th>outlet</th>\n",
       "      <th>url</th>\n",
       "      <th>title</th>\n",
       "    </tr>\n",
       "  </thead>\n",
       "  <tbody>\n",
       "    <tr>\n",
       "      <th>0</th>\n",
       "      <td>2020-07-16 12:15:00+00:00</td>\n",
       "      <td>ctvnews</td>\n",
       "      <td>https://www.ctvnews.ca/health/coronavirus/ariz...</td>\n",
       "      <td>Arizona man in a coma from coronavirus wakes u...</td>\n",
       "    </tr>\n",
       "    <tr>\n",
       "      <th>1</th>\n",
       "      <td>2020-07-14 15:40:00+00:00</td>\n",
       "      <td>ctvnews</td>\n",
       "      <td>https://www.ctvnews.ca/health/coronavirus/how-...</td>\n",
       "      <td>How deadly is COVID-19 for children? Here's wh...</td>\n",
       "    </tr>\n",
       "    <tr>\n",
       "      <th>2</th>\n",
       "      <td>2020-07-17 04:15:00+00:00</td>\n",
       "      <td>ctvnews</td>\n",
       "      <td>https://bc.ctvnews.ca/covid-19-outbreak-in-new...</td>\n",
       "      <td>COVID-19 outbreak in newborn intensive care un...</td>\n",
       "    </tr>\n",
       "    <tr>\n",
       "      <th>3</th>\n",
       "      <td>2020-07-15 18:40:00+00:00</td>\n",
       "      <td>ctvnews</td>\n",
       "      <td>https://www.ctvnews.ca/health/coronavirus/why-...</td>\n",
       "      <td>Why a closed border hasn't kept international ...</td>\n",
       "    </tr>\n",
       "    <tr>\n",
       "      <th>4</th>\n",
       "      <td>2020-07-17 15:13:00+00:00</td>\n",
       "      <td>ctvnews</td>\n",
       "      <td>https://montreal.ctvnews.ca/quebec-recovery-nu...</td>\n",
       "      <td>Quebec recovery numbers skyrocket after new sy...</td>\n",
       "    </tr>\n",
       "    <tr>\n",
       "      <th>...</th>\n",
       "      <td>...</td>\n",
       "      <td>...</td>\n",
       "      <td>...</td>\n",
       "      <td>...</td>\n",
       "    </tr>\n",
       "    <tr>\n",
       "      <th>670</th>\n",
       "      <td>2020-07-15 20:25:00+00:00</td>\n",
       "      <td>northdeltareporter</td>\n",
       "      <td>https://www.northdeltareporter.com/entertainme...</td>\n",
       "      <td>‘Digital Stage’ gigs embraced by Surrey musici...</td>\n",
       "    </tr>\n",
       "    <tr>\n",
       "      <th>671</th>\n",
       "      <td>2020-07-14 21:50:00+00:00</td>\n",
       "      <td>northdeltareporter</td>\n",
       "      <td>https://www.northdeltareporter.com/entertainme...</td>\n",
       "      <td>B.C.’s virtual ‘SoundON’ concerts kick off wit...</td>\n",
       "    </tr>\n",
       "    <tr>\n",
       "      <th>672</th>\n",
       "      <td>2020-07-15 20:57:00+00:00</td>\n",
       "      <td>northdeltareporter</td>\n",
       "      <td>https://www.northdeltareporter.com/opinion/col...</td>\n",
       "      <td>COLUMN: Me to We Scandal – Should Teachers Be ...</td>\n",
       "    </tr>\n",
       "    <tr>\n",
       "      <th>673</th>\n",
       "      <td>2020-07-17 13:00:00+00:00</td>\n",
       "      <td>surreynowleader</td>\n",
       "      <td>https://www.surreynowleader.com/news/re-openin...</td>\n",
       "      <td>Re-opening of White Rock parkade awaits counci...</td>\n",
       "    </tr>\n",
       "    <tr>\n",
       "      <th>674</th>\n",
       "      <td>2020-07-14 16:40:00+00:00</td>\n",
       "      <td>surreynowleader</td>\n",
       "      <td>https://www.surreynowleader.com/news/honks-sir...</td>\n",
       "      <td>Honks, sirens and thumbs-up at ‘Keep the RCMP ...</td>\n",
       "    </tr>\n",
       "  </tbody>\n",
       "</table>\n",
       "<p>675 rows × 4 columns</p>\n",
       "</div>"
      ],
      "text/plain": [
       "                 publish_date              outlet  \\\n",
       "0   2020-07-16 12:15:00+00:00             ctvnews   \n",
       "1   2020-07-14 15:40:00+00:00             ctvnews   \n",
       "2   2020-07-17 04:15:00+00:00             ctvnews   \n",
       "3   2020-07-15 18:40:00+00:00             ctvnews   \n",
       "4   2020-07-17 15:13:00+00:00             ctvnews   \n",
       "..                        ...                 ...   \n",
       "670 2020-07-15 20:25:00+00:00  northdeltareporter   \n",
       "671 2020-07-14 21:50:00+00:00  northdeltareporter   \n",
       "672 2020-07-15 20:57:00+00:00  northdeltareporter   \n",
       "673 2020-07-17 13:00:00+00:00     surreynowleader   \n",
       "674 2020-07-14 16:40:00+00:00     surreynowleader   \n",
       "\n",
       "                                                   url  \\\n",
       "0    https://www.ctvnews.ca/health/coronavirus/ariz...   \n",
       "1    https://www.ctvnews.ca/health/coronavirus/how-...   \n",
       "2    https://bc.ctvnews.ca/covid-19-outbreak-in-new...   \n",
       "3    https://www.ctvnews.ca/health/coronavirus/why-...   \n",
       "4    https://montreal.ctvnews.ca/quebec-recovery-nu...   \n",
       "..                                                 ...   \n",
       "670  https://www.northdeltareporter.com/entertainme...   \n",
       "671  https://www.northdeltareporter.com/entertainme...   \n",
       "672  https://www.northdeltareporter.com/opinion/col...   \n",
       "673  https://www.surreynowleader.com/news/re-openin...   \n",
       "674  https://www.surreynowleader.com/news/honks-sir...   \n",
       "\n",
       "                                                 title  \n",
       "0    Arizona man in a coma from coronavirus wakes u...  \n",
       "1    How deadly is COVID-19 for children? Here's wh...  \n",
       "2    COVID-19 outbreak in newborn intensive care un...  \n",
       "3    Why a closed border hasn't kept international ...  \n",
       "4    Quebec recovery numbers skyrocket after new sy...  \n",
       "..                                                 ...  \n",
       "670  ‘Digital Stage’ gigs embraced by Surrey musici...  \n",
       "671  B.C.’s virtual ‘SoundON’ concerts kick off wit...  \n",
       "672  COLUMN: Me to We Scandal – Should Teachers Be ...  \n",
       "673  Re-opening of White Rock parkade awaits counci...  \n",
       "674  Honks, sirens and thumbs-up at ‘Keep the RCMP ...  \n",
       "\n",
       "[675 rows x 4 columns]"
      ]
     },
     "execution_count": 14,
     "metadata": {},
     "output_type": "execute_result"
    }
   ],
   "source": [
    "temp"
   ]
  },
  {
   "cell_type": "code",
   "execution_count": 15,
   "metadata": {},
   "outputs": [],
   "source": [
    "# For each date read, sample one article (published before date read)\n",
    "\n",
    "new_temp = pd.DataFrame(columns=['publish_date', 'outlet', 'url', 'title'])\n",
    "\n",
    "for i in range(70): \n",
    "    day= user_reading.loc[i]\n",
    "    d = day['date_read']\n",
    "    x = temp[temp['publish_date'] <= day['date_read']].sample(1)\n",
    "    new_temp = new_temp.append(x)\n",
    "\n",
    "new_temp.reset_index(drop=True, inplace=True)"
   ]
  },
  {
   "cell_type": "code",
   "execution_count": 16,
   "metadata": {
    "scrolled": true
   },
   "outputs": [],
   "source": [
    "user_reading = pd.concat([user_reading, new_temp], axis=1)"
   ]
  },
  {
   "cell_type": "markdown",
   "metadata": {},
   "source": [
    "**Create random ranges of for reading times**"
   ]
  },
  {
   "cell_type": "code",
   "execution_count": 17,
   "metadata": {},
   "outputs": [],
   "source": [
    "start_time = datetime.time(0,0,0)\n",
    "\n",
    "user_reading['start_time'] = start_time"
   ]
  },
  {
   "cell_type": "code",
   "execution_count": 18,
   "metadata": {},
   "outputs": [],
   "source": [
    "for i in range(len(user_reading)):\n",
    "    end_time = datetime.time(0, random.randint(1, 10), random.randint(0, 59))\n",
    "    user_reading.loc[i, 'end_time'] = end_time"
   ]
  },
  {
   "cell_type": "markdown",
   "metadata": {},
   "source": [
    "**Find reading time for article**"
   ]
  },
  {
   "cell_type": "code",
   "execution_count": 19,
   "metadata": {},
   "outputs": [],
   "source": [
    "from datetime import datetime, date, time\n",
    "\n",
    "for i in range(len(user_reading)):\n",
    "    diff = datetime.combine(date.today(), user_reading.loc[i, 'end_time']) - datetime.combine(date.today(), user_reading.loc[i, 'start_time'])\n",
    "    user_reading.loc[i, 'reading_time'] = diff.total_seconds() "
   ]
  },
  {
   "cell_type": "markdown",
   "metadata": {},
   "source": [
    "### Exploration on User Reading Dataset"
   ]
  },
  {
   "cell_type": "code",
   "execution_count": 20,
   "metadata": {},
   "outputs": [
    {
     "data": {
      "text/html": [
       "<div>\n",
       "<style scoped>\n",
       "    .dataframe tbody tr th:only-of-type {\n",
       "        vertical-align: middle;\n",
       "    }\n",
       "\n",
       "    .dataframe tbody tr th {\n",
       "        vertical-align: top;\n",
       "    }\n",
       "\n",
       "    .dataframe thead th {\n",
       "        text-align: right;\n",
       "    }\n",
       "</style>\n",
       "<table border=\"1\" class=\"dataframe\">\n",
       "  <thead>\n",
       "    <tr style=\"text-align: right;\">\n",
       "      <th></th>\n",
       "      <th>date_read</th>\n",
       "      <th>publish_date</th>\n",
       "      <th>outlet</th>\n",
       "      <th>url</th>\n",
       "      <th>title</th>\n",
       "      <th>start_time</th>\n",
       "      <th>end_time</th>\n",
       "      <th>reading_time</th>\n",
       "    </tr>\n",
       "  </thead>\n",
       "  <tbody>\n",
       "    <tr>\n",
       "      <th>0</th>\n",
       "      <td>2020-07-14 21:37:14.068921+00:00</td>\n",
       "      <td>2020-07-14 16:19:00+00:00</td>\n",
       "      <td>ctvnews</td>\n",
       "      <td>https://northernontario.ctvnews.ca/two-floridi...</td>\n",
       "      <td>Two Floridians fined for violating the Quarant...</td>\n",
       "      <td>00:00:00</td>\n",
       "      <td>00:08:58</td>\n",
       "      <td>538.0</td>\n",
       "    </tr>\n",
       "    <tr>\n",
       "      <th>1</th>\n",
       "      <td>2020-07-14 21:37:14.083603+00:00</td>\n",
       "      <td>2020-07-14 00:00:00+00:00</td>\n",
       "      <td>thestar</td>\n",
       "      <td>https://www.thestar.com/entertainment/stage/20...</td>\n",
       "      <td>Groundlings, Upright Citizens Brigade face rac...</td>\n",
       "      <td>00:00:00</td>\n",
       "      <td>00:07:42</td>\n",
       "      <td>462.0</td>\n",
       "    </tr>\n",
       "    <tr>\n",
       "      <th>2</th>\n",
       "      <td>2020-07-14 21:37:14.085100+00:00</td>\n",
       "      <td>2020-07-14 15:19:00+00:00</td>\n",
       "      <td>ctvnews</td>\n",
       "      <td>https://www.ctvnews.ca/sci-tech/road-traffic-m...</td>\n",
       "      <td>Road traffic microplastics flooding world's oc...</td>\n",
       "      <td>00:00:00</td>\n",
       "      <td>00:09:59</td>\n",
       "      <td>599.0</td>\n",
       "    </tr>\n",
       "    <tr>\n",
       "      <th>3</th>\n",
       "      <td>2020-07-14 21:37:14.086564+00:00</td>\n",
       "      <td>2020-07-14 19:56:00+00:00</td>\n",
       "      <td>cp24</td>\n",
       "      <td>https://www.cp24.com/world/uk-backtracks-on-gi...</td>\n",
       "      <td>UK backtracks on giving Huawei role in high-sp...</td>\n",
       "      <td>00:00:00</td>\n",
       "      <td>00:09:41</td>\n",
       "      <td>581.0</td>\n",
       "    </tr>\n",
       "    <tr>\n",
       "      <th>4</th>\n",
       "      <td>2020-07-14 21:37:14.088102+00:00</td>\n",
       "      <td>2020-07-13 19:50:00+00:00</td>\n",
       "      <td>abbynews</td>\n",
       "      <td>https://www.abbynews.com/news/missing-richmond...</td>\n",
       "      <td>Missing Richmond man last seen in Chilliwack –...</td>\n",
       "      <td>00:00:00</td>\n",
       "      <td>00:03:35</td>\n",
       "      <td>215.0</td>\n",
       "    </tr>\n",
       "  </tbody>\n",
       "</table>\n",
       "</div>"
      ],
      "text/plain": [
       "                         date_read               publish_date    outlet  \\\n",
       "0 2020-07-14 21:37:14.068921+00:00  2020-07-14 16:19:00+00:00   ctvnews   \n",
       "1 2020-07-14 21:37:14.083603+00:00  2020-07-14 00:00:00+00:00   thestar   \n",
       "2 2020-07-14 21:37:14.085100+00:00  2020-07-14 15:19:00+00:00   ctvnews   \n",
       "3 2020-07-14 21:37:14.086564+00:00  2020-07-14 19:56:00+00:00      cp24   \n",
       "4 2020-07-14 21:37:14.088102+00:00  2020-07-13 19:50:00+00:00  abbynews   \n",
       "\n",
       "                                                 url  \\\n",
       "0  https://northernontario.ctvnews.ca/two-floridi...   \n",
       "1  https://www.thestar.com/entertainment/stage/20...   \n",
       "2  https://www.ctvnews.ca/sci-tech/road-traffic-m...   \n",
       "3  https://www.cp24.com/world/uk-backtracks-on-gi...   \n",
       "4  https://www.abbynews.com/news/missing-richmond...   \n",
       "\n",
       "                                               title start_time  end_time  \\\n",
       "0  Two Floridians fined for violating the Quarant...   00:00:00  00:08:58   \n",
       "1  Groundlings, Upright Citizens Brigade face rac...   00:00:00  00:07:42   \n",
       "2  Road traffic microplastics flooding world's oc...   00:00:00  00:09:59   \n",
       "3  UK backtracks on giving Huawei role in high-sp...   00:00:00  00:09:41   \n",
       "4  Missing Richmond man last seen in Chilliwack –...   00:00:00  00:03:35   \n",
       "\n",
       "   reading_time  \n",
       "0         538.0  \n",
       "1         462.0  \n",
       "2         599.0  \n",
       "3         581.0  \n",
       "4         215.0  "
      ]
     },
     "execution_count": 20,
     "metadata": {},
     "output_type": "execute_result"
    }
   ],
   "source": [
    "user_reading.head()"
   ]
  },
  {
   "cell_type": "code",
   "execution_count": 21,
   "metadata": {},
   "outputs": [
    {
     "data": {
      "text/plain": [
       "ctvnews                27\n",
       "thestar                12\n",
       "mapleridgenews         10\n",
       "torontosun              6\n",
       "cp24                    6\n",
       "abbynews                4\n",
       "langleyadvancetimes     2\n",
       "theprogress             2\n",
       "northdeltareporter      1\n",
       "Name: outlet, dtype: int64"
      ]
     },
     "execution_count": 21,
     "metadata": {},
     "output_type": "execute_result"
    }
   ],
   "source": [
    "# To show which outlet articles are read from \n",
    "\n",
    "user_reading['outlet'].value_counts()"
   ]
  },
  {
   "cell_type": "code",
   "execution_count": 22,
   "metadata": {},
   "outputs": [
    {
     "data": {
      "text/plain": [
       "6.335714285714286"
      ]
     },
     "execution_count": 22,
     "metadata": {},
     "output_type": "execute_result"
    }
   ],
   "source": [
    "# Average reading time in minutes \n",
    "\n",
    "np.average(user_reading['reading_time'])/60"
   ]
  },
  {
   "cell_type": "markdown",
   "metadata": {},
   "source": [
    "**Exporting the dataset as a .csv file**"
   ]
  },
  {
   "cell_type": "code",
   "execution_count": 23,
   "metadata": {},
   "outputs": [],
   "source": [
    "user_reading.to_csv('user_reading.csv')"
   ]
  }
 ],
 "metadata": {
  "kernelspec": {
   "display_name": "Python 3",
   "language": "python",
   "name": "python3"
  },
  "language_info": {
   "codemirror_mode": {
    "name": "ipython",
    "version": 3
   },
   "file_extension": ".py",
   "mimetype": "text/x-python",
   "name": "python",
   "nbconvert_exporter": "python",
   "pygments_lexer": "ipython3",
   "version": "3.7.6"
  }
 },
 "nbformat": 4,
 "nbformat_minor": 4
}
