{
 "cells": [
  {
   "cell_type": "code",
   "execution_count": 1,
   "metadata": {},
   "outputs": [],
   "source": [
    "import pandas as pd\n",
    "import numpy as np"
   ]
  },
  {
   "cell_type": "code",
   "execution_count": 2,
   "metadata": {},
   "outputs": [],
   "source": [
    "# Importing final dataset used by topic clustering model \n",
    "\n",
    "clean = pd.read_csv('clean.csv').drop(columns=['Unnamed: 0'])"
   ]
  },
  {
   "cell_type": "code",
   "execution_count": 3,
   "metadata": {},
   "outputs": [
    {
     "data": {
      "text/plain": [
       "(4328, 7)"
      ]
     },
     "execution_count": 3,
     "metadata": {},
     "output_type": "execute_result"
    }
   ],
   "source": [
    "clean.shape"
   ]
  },
  {
   "cell_type": "code",
   "execution_count": 4,
   "metadata": {},
   "outputs": [
    {
     "data": {
      "text/html": [
       "<div>\n",
       "<style scoped>\n",
       "    .dataframe tbody tr th:only-of-type {\n",
       "        vertical-align: middle;\n",
       "    }\n",
       "\n",
       "    .dataframe tbody tr th {\n",
       "        vertical-align: top;\n",
       "    }\n",
       "\n",
       "    .dataframe thead th {\n",
       "        text-align: right;\n",
       "    }\n",
       "</style>\n",
       "<table border=\"1\" class=\"dataframe\">\n",
       "  <thead>\n",
       "    <tr style=\"text-align: right;\">\n",
       "      <th></th>\n",
       "      <th>outlet</th>\n",
       "      <th>url</th>\n",
       "      <th>title</th>\n",
       "      <th>authors</th>\n",
       "      <th>publish_date</th>\n",
       "      <th>text</th>\n",
       "      <th>keywords</th>\n",
       "    </tr>\n",
       "  </thead>\n",
       "  <tbody>\n",
       "    <tr>\n",
       "      <th>0</th>\n",
       "      <td>cbc</td>\n",
       "      <td>https://www.cbc.ca/news/covid-19</td>\n",
       "      <td>CBC News | Information about COVID-19 in Canada</td>\n",
       "      <td>'Darren Bernhardt'</td>\n",
       "      <td>NaN</td>\n",
       "      <td>Sylvan Lake to clamp down on beach crowds with...</td>\n",
       "      <td>[]</td>\n",
       "    </tr>\n",
       "    <tr>\n",
       "      <th>1</th>\n",
       "      <td>cbc</td>\n",
       "      <td>https://www.cbc.ca/news/local</td>\n",
       "      <td>CBC News</td>\n",
       "      <td>'Andrew Kurjata'</td>\n",
       "      <td>NaN</td>\n",
       "      <td>What you need to know about COVID-19 in Ottawa...</td>\n",
       "      <td>[]</td>\n",
       "    </tr>\n",
       "    <tr>\n",
       "      <th>2</th>\n",
       "      <td>cbc</td>\n",
       "      <td>https://www.cbc.ca/news/politics</td>\n",
       "      <td>Politics</td>\n",
       "      <td>'John Paul Tasker'</td>\n",
       "      <td>NaN</td>\n",
       "      <td>WE Charity contract could have been worth up t...</td>\n",
       "      <td>[]</td>\n",
       "    </tr>\n",
       "    <tr>\n",
       "      <th>3</th>\n",
       "      <td>cbc</td>\n",
       "      <td>https://www.cbc.ca/news/indigenous</td>\n",
       "      <td>Indigenous</td>\n",
       "      <td>'Jessica Deer'</td>\n",
       "      <td>NaN</td>\n",
       "      <td>Manitoba judge points to systemic issues in In...</td>\n",
       "      <td>[]</td>\n",
       "    </tr>\n",
       "    <tr>\n",
       "      <th>4</th>\n",
       "      <td>cbc</td>\n",
       "      <td>https://www.cbc.ca/news/business</td>\n",
       "      <td>Business</td>\n",
       "      <td>'Pete Evans'</td>\n",
       "      <td>NaN</td>\n",
       "      <td>Twitter says about 130 accounts were targeted ...</td>\n",
       "      <td>[]</td>\n",
       "    </tr>\n",
       "  </tbody>\n",
       "</table>\n",
       "</div>"
      ],
      "text/plain": [
       "  outlet                                 url  \\\n",
       "0    cbc    https://www.cbc.ca/news/covid-19   \n",
       "1    cbc       https://www.cbc.ca/news/local   \n",
       "2    cbc    https://www.cbc.ca/news/politics   \n",
       "3    cbc  https://www.cbc.ca/news/indigenous   \n",
       "4    cbc    https://www.cbc.ca/news/business   \n",
       "\n",
       "                                             title             authors  \\\n",
       "0  CBC News | Information about COVID-19 in Canada  'Darren Bernhardt'   \n",
       "1                                         CBC News    'Andrew Kurjata'   \n",
       "2                                         Politics  'John Paul Tasker'   \n",
       "3                                       Indigenous      'Jessica Deer'   \n",
       "4                                         Business        'Pete Evans'   \n",
       "\n",
       "  publish_date                                               text keywords  \n",
       "0          NaN  Sylvan Lake to clamp down on beach crowds with...       []  \n",
       "1          NaN  What you need to know about COVID-19 in Ottawa...       []  \n",
       "2          NaN  WE Charity contract could have been worth up t...       []  \n",
       "3          NaN  Manitoba judge points to systemic issues in In...       []  \n",
       "4          NaN  Twitter says about 130 accounts were targeted ...       []  "
      ]
     },
     "execution_count": 4,
     "metadata": {},
     "output_type": "execute_result"
    }
   ],
   "source": [
    "clean.head()"
   ]
  },
  {
   "cell_type": "markdown",
   "metadata": {},
   "source": [
    "There are 21 unique news outlets in this dataset."
   ]
  },
  {
   "cell_type": "code",
   "execution_count": 11,
   "metadata": {},
   "outputs": [
    {
     "data": {
      "text/plain": [
       "array(['cbc', 'ctvnews', 'nationalpost', 'torontosun', 'thestar', 'cp24',\n",
       "       'mapleridgenews', 'tricitynews', 'langleyadvancetimes', 'abbynews',\n",
       "       'theprogress', 'northdeltareporter', 'surreynowleader',\n",
       "       'vancouverobserver', 'vancourier', 'nsnews', 'richmond-news',\n",
       "       'burnabynow', 'newwestrecord', 'bowenislandundercurrent',\n",
       "       'The Record'], dtype=object)"
      ]
     },
     "execution_count": 11,
     "metadata": {},
     "output_type": "execute_result"
    }
   ],
   "source": [
    "clean['outlet'].unique()"
   ]
  },
  {
   "cell_type": "markdown",
   "metadata": {},
   "source": [
    "**Options for location-based coordinates for Demo Day:**\n",
    "\n",
    "1. Count number of locations in the text and find coordinates of most frequent \n",
    "    - spacy API\n",
    "    \n",
    "2. Use location of outlet (21 unique locations) "
   ]
  },
  {
   "cell_type": "markdown",
   "metadata": {},
   "source": [
    "## (1) Counting locat"
   ]
  },
  {
   "cell_type": "code",
   "execution_count": null,
   "metadata": {},
   "outputs": [],
   "source": []
  },
  {
   "cell_type": "code",
   "execution_count": null,
   "metadata": {},
   "outputs": [],
   "source": []
  },
  {
   "cell_type": "code",
   "execution_count": null,
   "metadata": {},
   "outputs": [],
   "source": []
  },
  {
   "cell_type": "code",
   "execution_count": null,
   "metadata": {},
   "outputs": [],
   "source": []
  }
 ],
 "metadata": {
  "kernelspec": {
   "display_name": "Python 3",
   "language": "python",
   "name": "python3"
  },
  "language_info": {
   "codemirror_mode": {
    "name": "ipython",
    "version": 3
   },
   "file_extension": ".py",
   "mimetype": "text/x-python",
   "name": "python",
   "nbconvert_exporter": "python",
   "pygments_lexer": "ipython3",
   "version": "3.7.6"
  }
 },
 "nbformat": 4,
 "nbformat_minor": 4
}
