{
 "cells": [
  {
   "cell_type": "code",
   "execution_count": 1,
   "metadata": {},
   "outputs": [],
   "source": [
    "import pandas as pd"
   ]
  },
  {
   "cell_type": "code",
   "execution_count": 6,
   "metadata": {},
   "outputs": [],
   "source": [
    "local = pd.read_csv('the_record.csv')\n",
    "business = pd.read_csv('the_record_business.csv')\n",
    "canada = pd.read_csv('the_record_canada.csv')\n",
    "entertainment = pd.read_csv('the_record_entertainment.csv')\n",
    "life = pd.read_csv('the_record_life.csv')\n",
    "politics = pd.read_csv('the_record_politics.csv')\n",
    "sports = pd.read_csv('the_record_sports.csv')\n",
    "world = pd.read_csv('the_record_world.csv')\n",
    "opinion = pd.read_csv('the_record_opinion.csv')"
   ]
  },
  {
   "cell_type": "code",
   "execution_count": 7,
   "metadata": {},
   "outputs": [],
   "source": [
    "local = local.drop(columns=['Unnamed: 0'])\n",
    "business = business.drop(columns=['Unnamed: 0'])\n",
    "canada = canada.drop(columns=['Unnamed: 0'])\n",
    "entertainment = entertainment.drop(columns=['Unnamed: 0'])\n",
    "life = life.drop(columns=['Unnamed: 0'])\n",
    "politics = politics.drop(columns=['Unnamed: 0'])\n",
    "sports = sports.drop(columns=['Unnamed: 0'])\n",
    "world = world.drop(columns=['Unnamed: 0'])\n",
    "opinion = opinion.drop(columns=['Unnamed: 0'])"
   ]
  },
  {
   "cell_type": "code",
   "execution_count": 23,
   "metadata": {},
   "outputs": [
    {
     "data": {
      "text/plain": [
       "(280, 6)"
      ]
     },
     "execution_count": 23,
     "metadata": {},
     "output_type": "execute_result"
    }
   ],
   "source": [
    "dfs = [local, business, canada, entertainment, life, politics, sports, world, opinion]\n",
    "the_record = pd.concat(dfs, ignore_index=True)\n",
    "\n",
    "the_record.shape"
   ]
  },
  {
   "cell_type": "code",
   "execution_count": 26,
   "metadata": {},
   "outputs": [],
   "source": [
    "the_record.to_csv('the_record.csv')"
   ]
  }
 ],
 "metadata": {
  "kernelspec": {
   "display_name": "Python 3",
   "language": "python",
   "name": "python3"
  },
  "language_info": {
   "codemirror_mode": {
    "name": "ipython",
    "version": 3
   },
   "file_extension": ".py",
   "mimetype": "text/x-python",
   "name": "python",
   "nbconvert_exporter": "python",
   "pygments_lexer": "ipython3",
   "version": "3.7.6"
  }
 },
 "nbformat": 4,
 "nbformat_minor": 4
}
