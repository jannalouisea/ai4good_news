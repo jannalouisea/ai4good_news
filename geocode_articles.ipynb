{
 "cells": [
  {
   "cell_type": "markdown",
   "metadata": {},
   "source": [
    "## Requirements:\n",
    "\n",
    "**python libraries:**\n",
    "- pandas\n",
    "- spacy\n",
    "- geopy\n",
    "\n",
    "\n",
    "**csv files (as dataframes):**\n",
    "- articles with topic clusters \n",
    "- outlet locations"
   ]
  },
  {
   "cell_type": "markdown",
   "metadata": {},
   "source": [
    "### Functions\n",
    "\n",
    "- **spacy_location ( *string* text )**\n",
    "\n",
    "    Finds most frequently mentioned location in a piece of text. Returns as a string. \n",
    "\n",
    "\n",
    "- **df_to_list_dict ( *DataFrame* df, *string* key )**\n",
    "\n",
    "    Creates a list dictionary of a pandas dataframe, with a specified key value.\n",
    "\n",
    "\n",
    "- **clean_loc ( *string* text )**\n",
    "\n",
    "    Cleans location text for specific use cases. \n",
    "    \n",
    "\n",
    "- **geocode_articles ( *DataFrame* df, *Dataframe* outlet_locations )**\n",
    "\n",
    "    Assigns geolocation information to each article (row) found within 'df' using spacy_location() or outlet_locations.\n",
    "    \n",
    "    \n",
    "    "
   ]
  },
  {
   "cell_type": "markdown",
   "metadata": {},
   "source": [
    "### spacy_location ( *string* text ) :\n",
    "\n",
    "**Input:**\n",
    "\n",
    "- **text -** text to analyze \n",
    "\n",
    "**Output**\n",
    "\n",
    "- **final_loc -** location extracted from text"
   ]
  },
  {
   "cell_type": "code",
   "execution_count": 23,
   "metadata": {},
   "outputs": [],
   "source": [
    "def spacy_location(text):\n",
    "    nlp = spacy.load(\"en_core_web_sm\")\n",
    "    doc = nlp(text)\n",
    "    final_loc = ''\n",
    "    locations = []\n",
    "    \n",
    "    for ent in doc.ents:\n",
    "        if (ent.label_ == 'GPE'):\n",
    "            locations.append(ent.text)\n",
    "    \n",
    "    if len(locations) > 0:\n",
    "        loc_counts = pd.DataFrame([[x, locations.count(x)] for x in set(locations)])\n",
    "        loc_counts.columns = ['location', 'count']\n",
    "        loc_counts = loc_counts.sort_values(by=['count'], ascending=False)\n",
    "    \n",
    "        final_loc = loc_counts.iloc[0, 0]\n",
    "        \n",
    "    return final_loc   "
   ]
  },
  {
   "cell_type": "markdown",
   "metadata": {},
   "source": [
    "### df_to_list_dict ( *DataFrame* df , *string* key ) :\n",
    "\n",
    "**Input:**\n",
    "\n",
    "- **df -** pandas dataframe to transform to dictionary\n",
    "- **key -** string to use as key in dictionary\n",
    "\n",
    "**Output**\n",
    "\n",
    "- **dict -** a dictionary of the dataframe, where the key is the *string* key input and the value is a list of the column values per row\n"
   ]
  },
  {
   "cell_type": "code",
   "execution_count": 9,
   "metadata": {},
   "outputs": [],
   "source": [
    "def df_to_list_dict(df, key):\n",
    "    return df.set_index(key).T.to_dict('list')"
   ]
  },
  {
   "cell_type": "markdown",
   "metadata": {},
   "source": [
    "### clean_loc ( *String* text )\n",
    "\n",
    "\n",
    "**Input:**\n",
    "\n",
    "- **text -** location text to analyze for specific use cases to clean\n",
    "\n",
    "**Output**\n",
    "\n",
    "- **text-** updated ('cleaned') location values"
   ]
  },
  {
   "cell_type": "code",
   "execution_count": 4,
   "metadata": {},
   "outputs": [],
   "source": [
    "def clean_loc(text): \n",
    "    if text=='Surrey':\n",
    "        text = 'Surrey, British Columbia'\n",
    "    elif text =='B.C.':\n",
    "        text = 'British Columbia'\n",
    "    \n",
    "    return text"
   ]
  },
  {
   "cell_type": "markdown",
   "metadata": {},
   "source": [
    "### geocode_articles ( *DataFrame* df, *Dataframe* outlet_locations ) : \n",
    "\n",
    "**Input:** \n",
    "- **df -** dataframe of articles \n",
    "- **outlet_locations -** dataframe of outlets and their geographic locations\n",
    "\n",
    "**Output:** \n",
    "- **df_loc -** dataset of articles with geolocation information\n"
   ]
  },
  {
   "cell_type": "code",
   "execution_count": 24,
   "metadata": {},
   "outputs": [],
   "source": [
    "def geocode_articles(df, outlet_locations):\n",
    "    \n",
    "    new_df = df\n",
    "    gl = Nominatim(user_agent='newsworthy_ml')\n",
    "    \n",
    "    loc_dict = df_to_list_dict(outlet_locations)\n",
    "    \n",
    "    \n",
    "    for i in range(len(df)):          # Parses through each article in df\n",
    "    \n",
    "        text_loc = find_location(new_df.loc[i, 'text'])     # Find most frequently mentioned location in article text\n",
    "        text_loc = clean_loc(text_loc)                            # Fix specific use cases for locations        \n",
    "    \n",
    "        if text_loc != '':                 # If location string from article text is not empty\n",
    "            try:\n",
    "                new_df.loc[i, 'location'] = text_loc       # Assign article location to this text\n",
    "                loc = gl.geocode(text_loc)                  # Find coordinates of location returned by spacy\n",
    "                lat, long = loc.latitude, loc.longitude\n",
    "                \n",
    "                new_df.loc[i, 'lat'] = lat                       # Assign coordinates to article\n",
    "                new_df.loc[i, 'long'] = long\n",
    "            \n",
    "            except:\n",
    "                print(\"Error with extracting coordinates.\")\n",
    "                new_df.loc[i, 'lat'] = 0.0\n",
    "                new_df.loc[i, 'long'] = 0.0\n",
    "            \n",
    "        else:                                   # Use location of outlet instead\n",
    "            try:\n",
    "                new_df.loc[i, 'location'] = loc_dict[new_df.loc[i, 'outlet']][0]\n",
    "                new_df.loc[i, 'lat'] = loc_dict[new_df.loc[i, 'outlet']][1]\n",
    "                new_df.loc[i, 'long'] = loc_dict[new_df.loc[i, 'outlet']][2]\n",
    "                \n",
    "            except:\n",
    "                print(\"Error calling from dictionary.\")"
   ]
  }
 ],
 "metadata": {
  "kernelspec": {
   "display_name": "Python 3",
   "language": "python",
   "name": "python3"
  },
  "language_info": {
   "codemirror_mode": {
    "name": "ipython",
    "version": 3
   },
   "file_extension": ".py",
   "mimetype": "text/x-python",
   "name": "python",
   "nbconvert_exporter": "python",
   "pygments_lexer": "ipython3",
   "version": "3.7.6"
  }
 },
 "nbformat": 4,
 "nbformat_minor": 4
}
